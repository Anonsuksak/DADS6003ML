{
  "cells": [
    {
      "cell_type": "markdown",
      "metadata": {
        "id": "view-in-github",
        "colab_type": "text"
      },
      "source": [
        "<a href=\"https://colab.research.google.com/github/Anonsuksak/DADS6003ML/blob/main/Logistic_Regression_6610412009_Anon_Suksak.ipynb\" target=\"_parent\"><img src=\"https://colab.research.google.com/assets/colab-badge.svg\" alt=\"Open In Colab\"/></a>"
      ]
    },
    {
      "cell_type": "markdown",
      "id": "1b2a0fe8-8b02-42fc-b86a-60770fbe7add",
      "metadata": {
        "id": "1b2a0fe8-8b02-42fc-b86a-60770fbe7add"
      },
      "source": [
        "## แนะนำการวิเคราะห์หุ้นด้วย yahoo finance\n",
        "- https://www.ultimatepython.co/post/python-yahoo-finance"
      ]
    },
    {
      "cell_type": "code",
      "execution_count": null,
      "id": "fae4dd14-97d4-4ec9-9f07-efa148e6bf5b",
      "metadata": {
        "scrolled": true,
        "id": "fae4dd14-97d4-4ec9-9f07-efa148e6bf5b",
        "outputId": "74b202c3-41f2-4d50-9efd-495e737f1bd9"
      },
      "outputs": [
        {
          "name": "stdout",
          "output_type": "stream",
          "text": [
            "Requirement already satisfied: requests in /Users/anonsuksak/miniconda3/lib/python3.10/site-packages (2.31.0)\n",
            "Requirement already satisfied: charset-normalizer<4,>=2 in /Users/anonsuksak/miniconda3/lib/python3.10/site-packages (from requests) (2.0.4)\n",
            "Requirement already satisfied: idna<4,>=2.5 in /Users/anonsuksak/miniconda3/lib/python3.10/site-packages (from requests) (3.4)\n",
            "Requirement already satisfied: urllib3<3,>=1.21.1 in /Users/anonsuksak/miniconda3/lib/python3.10/site-packages (from requests) (1.26.13)\n",
            "Requirement already satisfied: certifi>=2017.4.17 in /Users/anonsuksak/miniconda3/lib/python3.10/site-packages (from requests) (2022.12.7)\n",
            "Note: you may need to restart the kernel to use updated packages.\n"
          ]
        }
      ],
      "source": [
        "pip install requests"
      ]
    },
    {
      "cell_type": "code",
      "execution_count": null,
      "id": "2dde3ba0-3493-407b-956d-a23a65306946",
      "metadata": {
        "id": "2dde3ba0-3493-407b-956d-a23a65306946",
        "outputId": "273f881c-5551-4057-fe35-85a3b96f0689"
      },
      "outputs": [
        {
          "name": "stdout",
          "output_type": "stream",
          "text": [
            "Requirement already satisfied: lxml in /Users/anonsuksak/miniconda3/lib/python3.10/site-packages (5.1.0)\n",
            "Note: you may need to restart the kernel to use updated packages.\n"
          ]
        }
      ],
      "source": [
        "pip install lxml"
      ]
    },
    {
      "cell_type": "code",
      "execution_count": null,
      "id": "dc7f713c-03d2-412f-8498-68aa17e84d1d",
      "metadata": {
        "scrolled": true,
        "id": "dc7f713c-03d2-412f-8498-68aa17e84d1d",
        "outputId": "26f5e88b-a2a5-441a-a218-9b804192c879"
      },
      "outputs": [
        {
          "name": "stdout",
          "output_type": "stream",
          "text": [
            "Requirement already satisfied: yfinance in /Users/anonsuksak/miniconda3/lib/python3.10/site-packages (0.2.36)\n",
            "Requirement already satisfied: pandas>=1.3.0 in /Users/anonsuksak/miniconda3/lib/python3.10/site-packages (from yfinance) (2.2.0)\n",
            "Requirement already satisfied: numpy>=1.16.5 in /Users/anonsuksak/miniconda3/lib/python3.10/site-packages (from yfinance) (1.26.4)\n",
            "Requirement already satisfied: requests>=2.31 in /Users/anonsuksak/miniconda3/lib/python3.10/site-packages (from yfinance) (2.31.0)\n",
            "Requirement already satisfied: multitasking>=0.0.7 in /Users/anonsuksak/miniconda3/lib/python3.10/site-packages (from yfinance) (0.0.11)\n",
            "Requirement already satisfied: lxml>=4.9.1 in /Users/anonsuksak/miniconda3/lib/python3.10/site-packages (from yfinance) (5.1.0)\n",
            "Requirement already satisfied: appdirs>=1.4.4 in /Users/anonsuksak/miniconda3/lib/python3.10/site-packages (from yfinance) (1.4.4)\n",
            "Requirement already satisfied: pytz>=2022.5 in /Users/anonsuksak/miniconda3/lib/python3.10/site-packages (from yfinance) (2024.1)\n",
            "Requirement already satisfied: frozendict>=2.3.4 in /Users/anonsuksak/miniconda3/lib/python3.10/site-packages (from yfinance) (2.4.0)\n",
            "Requirement already satisfied: peewee>=3.16.2 in /Users/anonsuksak/miniconda3/lib/python3.10/site-packages (from yfinance) (3.17.1)\n",
            "Requirement already satisfied: beautifulsoup4>=4.11.1 in /Users/anonsuksak/miniconda3/lib/python3.10/site-packages (from yfinance) (4.12.3)\n",
            "Requirement already satisfied: html5lib>=1.1 in /Users/anonsuksak/miniconda3/lib/python3.10/site-packages (from yfinance) (1.1)\n",
            "Requirement already satisfied: soupsieve>1.2 in /Users/anonsuksak/miniconda3/lib/python3.10/site-packages (from beautifulsoup4>=4.11.1->yfinance) (2.5)\n",
            "Requirement already satisfied: six>=1.9 in /Users/anonsuksak/miniconda3/lib/python3.10/site-packages (from html5lib>=1.1->yfinance) (1.16.0)\n",
            "Requirement already satisfied: webencodings in /Users/anonsuksak/miniconda3/lib/python3.10/site-packages (from html5lib>=1.1->yfinance) (0.5.1)\n",
            "Requirement already satisfied: python-dateutil>=2.8.2 in /Users/anonsuksak/miniconda3/lib/python3.10/site-packages (from pandas>=1.3.0->yfinance) (2.8.2)\n",
            "Requirement already satisfied: tzdata>=2022.7 in /Users/anonsuksak/miniconda3/lib/python3.10/site-packages (from pandas>=1.3.0->yfinance) (2023.4)\n",
            "Requirement already satisfied: charset-normalizer<4,>=2 in /Users/anonsuksak/miniconda3/lib/python3.10/site-packages (from requests>=2.31->yfinance) (2.0.4)\n",
            "Requirement already satisfied: idna<4,>=2.5 in /Users/anonsuksak/miniconda3/lib/python3.10/site-packages (from requests>=2.31->yfinance) (3.4)\n",
            "Requirement already satisfied: urllib3<3,>=1.21.1 in /Users/anonsuksak/miniconda3/lib/python3.10/site-packages (from requests>=2.31->yfinance) (1.26.13)\n",
            "Requirement already satisfied: certifi>=2017.4.17 in /Users/anonsuksak/miniconda3/lib/python3.10/site-packages (from requests>=2.31->yfinance) (2022.12.7)\n",
            "Note: you may need to restart the kernel to use updated packages.\n"
          ]
        }
      ],
      "source": [
        "pip install yfinance"
      ]
    },
    {
      "cell_type": "code",
      "execution_count": null,
      "id": "175d09ca-42a7-4e5b-a489-f79fc96f2b15",
      "metadata": {
        "id": "175d09ca-42a7-4e5b-a489-f79fc96f2b15",
        "outputId": "16e7520e-d2a8-4bbd-9e3a-3e1801dd44d8"
      },
      "outputs": [
        {
          "name": "stdout",
          "output_type": "stream",
          "text": [
            "Requirement already satisfied: pandas in /Users/anonsuksak/miniconda3/lib/python3.10/site-packages (2.2.0)\n",
            "Requirement already satisfied: numpy<2,>=1.22.4 in /Users/anonsuksak/miniconda3/lib/python3.10/site-packages (from pandas) (1.26.4)\n",
            "Requirement already satisfied: python-dateutil>=2.8.2 in /Users/anonsuksak/miniconda3/lib/python3.10/site-packages (from pandas) (2.8.2)\n",
            "Requirement already satisfied: pytz>=2020.1 in /Users/anonsuksak/miniconda3/lib/python3.10/site-packages (from pandas) (2024.1)\n",
            "Requirement already satisfied: tzdata>=2022.7 in /Users/anonsuksak/miniconda3/lib/python3.10/site-packages (from pandas) (2023.4)\n",
            "Requirement already satisfied: six>=1.5 in /Users/anonsuksak/miniconda3/lib/python3.10/site-packages (from python-dateutil>=2.8.2->pandas) (1.16.0)\n",
            "Note: you may need to restart the kernel to use updated packages.\n"
          ]
        }
      ],
      "source": [
        "pip install pandas"
      ]
    },
    {
      "cell_type": "code",
      "execution_count": null,
      "id": "85c3a98d-0adc-40d9-a045-d8c7d04394be",
      "metadata": {
        "scrolled": true,
        "id": "85c3a98d-0adc-40d9-a045-d8c7d04394be",
        "outputId": "36385b65-8509-4642-fb19-3c4aae11f007"
      },
      "outputs": [
        {
          "name": "stderr",
          "output_type": "stream",
          "text": [
            "/var/folders/kn/8gjhms0n1pngh9vl05r8zqg80000gn/T/ipykernel_37742/2721483381.py:1: DeprecationWarning: \n",
            "Pyarrow will become a required dependency of pandas in the next major release of pandas (pandas 3.0),\n",
            "(to allow more performant data types, such as the Arrow string type, and better interoperability with other libraries)\n",
            "but was not found to be installed on your system.\n",
            "If this would cause problems for you,\n",
            "please provide us feedback at https://github.com/pandas-dev/pandas/issues/54466\n",
            "        \n",
            "  import pandas as pd\n"
          ]
        }
      ],
      "source": [
        "import pandas as pd\n",
        "import numpy as np\n",
        "import yfinance as yf"
      ]
    },
    {
      "cell_type": "markdown",
      "id": "20f7a747-22e6-4840-9cb1-9b0749604269",
      "metadata": {
        "id": "20f7a747-22e6-4840-9cb1-9b0749604269"
      },
      "source": [
        "## ให้นักศึกษาทำตาม link (ด้านล่าง) จนได้ผลลัพธ์ของภาพกราฟตามที่แสดงใน link"
      ]
    },
    {
      "cell_type": "markdown",
      "id": "a234abaa-ca98-4e10-af6e-051c83e06a1c",
      "metadata": {
        "id": "a234abaa-ca98-4e10-af6e-051c83e06a1c"
      },
      "source": [
        "## https://blog.quantinsti.com/machine-learning-logistic-regression-python/"
      ]
    },
    {
      "cell_type": "markdown",
      "id": "e1d33872-f61d-4abf-b364-466f3fba3d61",
      "metadata": {
        "id": "e1d33872-f61d-4abf-b364-466f3fba3d61"
      },
      "source": [
        "## a. โดย น.ศ. สามารถเลือกหุ้น (ทั่วโลก) ได้ตามใจชอบมา 1 หุ้น และจะใช้ data ย้อนหลังกี่วันก็ได้ แต่ time frame (window) ต้องเป็น 1 ชั่วโมงเหมือนกันทุกคน (ตามที่กำหนดไว้ใน starter kit link ข้างบน) แล้วแสดงผลลัพธ์ของกราฟ"
      ]
    },
    {
      "cell_type": "markdown",
      "id": "8a938c9f-ca5b-4477-9c9c-2a919d4523fb",
      "metadata": {
        "id": "8a938c9f-ca5b-4477-9c9c-2a919d4523fb"
      },
      "source": [
        "- หุ้น Berkshire Hathaway Inc. ของ Warrent buffett ตัวย่อ BRK-B ตลาดหุ้น NYSE - NYSE Delayed Price. Currency in USD"
      ]
    },
    {
      "cell_type": "markdown",
      "id": "37a24d0a-d5da-4e01-b791-1a489deea025",
      "metadata": {
        "id": "37a24d0a-d5da-4e01-b791-1a489deea025"
      },
      "source": [
        "## Step 1: Import Data"
      ]
    },
    {
      "cell_type": "code",
      "execution_count": null,
      "id": "34ed2cda-723e-417d-b22a-076dc71851b4",
      "metadata": {
        "id": "34ed2cda-723e-417d-b22a-076dc71851b4"
      },
      "outputs": [],
      "source": [
        "BH = yf.Ticker('BRK-B')"
      ]
    },
    {
      "cell_type": "code",
      "execution_count": null,
      "id": "3dceefcf-5f82-467d-92df-2ff4d417bf4c",
      "metadata": {
        "id": "3dceefcf-5f82-467d-92df-2ff4d417bf4c"
      },
      "outputs": [],
      "source": [
        "##ดึงข้อมูลได้แค่ 730 วัน กรณีดึงข้อมูลเป็นรายชั่วโมง\n",
        "\n",
        "interval = '1h'\n",
        "\n",
        "start = '2023-1-1'\n",
        "end = '2023-12-31'\n",
        "\n",
        "BH_price_df = BH.history(interval='1h',start=start,end=end)"
      ]
    },
    {
      "cell_type": "code",
      "execution_count": null,
      "id": "cbdbbc02-ea32-4cb1-b359-3551b2df0344",
      "metadata": {
        "id": "cbdbbc02-ea32-4cb1-b359-3551b2df0344",
        "outputId": "7ba63564-6856-43ac-a411-0e2af8f93fbe"
      },
      "outputs": [
        {
          "data": {
            "text/html": [
              "<div>\n",
              "<style scoped>\n",
              "    .dataframe tbody tr th:only-of-type {\n",
              "        vertical-align: middle;\n",
              "    }\n",
              "\n",
              "    .dataframe tbody tr th {\n",
              "        vertical-align: top;\n",
              "    }\n",
              "\n",
              "    .dataframe thead th {\n",
              "        text-align: right;\n",
              "    }\n",
              "</style>\n",
              "<table border=\"1\" class=\"dataframe\">\n",
              "  <thead>\n",
              "    <tr style=\"text-align: right;\">\n",
              "      <th></th>\n",
              "      <th>Open</th>\n",
              "      <th>High</th>\n",
              "      <th>Low</th>\n",
              "      <th>Close</th>\n",
              "      <th>Volume</th>\n",
              "      <th>Dividends</th>\n",
              "      <th>Stock Splits</th>\n",
              "    </tr>\n",
              "    <tr>\n",
              "      <th>Datetime</th>\n",
              "      <th></th>\n",
              "      <th></th>\n",
              "      <th></th>\n",
              "      <th></th>\n",
              "      <th></th>\n",
              "      <th></th>\n",
              "      <th></th>\n",
              "    </tr>\n",
              "  </thead>\n",
              "  <tbody>\n",
              "    <tr>\n",
              "      <th>2023-01-03 09:30:00-05:00</th>\n",
              "      <td>309.899994</td>\n",
              "      <td>312.385010</td>\n",
              "      <td>308.899994</td>\n",
              "      <td>310.279999</td>\n",
              "      <td>852803</td>\n",
              "      <td>0.0</td>\n",
              "      <td>0.0</td>\n",
              "    </tr>\n",
              "    <tr>\n",
              "      <th>2023-01-03 10:30:00-05:00</th>\n",
              "      <td>310.359985</td>\n",
              "      <td>311.219910</td>\n",
              "      <td>308.570007</td>\n",
              "      <td>309.111603</td>\n",
              "      <td>309200</td>\n",
              "      <td>0.0</td>\n",
              "      <td>0.0</td>\n",
              "    </tr>\n",
              "    <tr>\n",
              "      <th>2023-01-03 11:30:00-05:00</th>\n",
              "      <td>309.170013</td>\n",
              "      <td>309.170013</td>\n",
              "      <td>307.920898</td>\n",
              "      <td>308.220001</td>\n",
              "      <td>253184</td>\n",
              "      <td>0.0</td>\n",
              "      <td>0.0</td>\n",
              "    </tr>\n",
              "    <tr>\n",
              "      <th>2023-01-03 12:30:00-05:00</th>\n",
              "      <td>308.200012</td>\n",
              "      <td>309.154999</td>\n",
              "      <td>307.490997</td>\n",
              "      <td>308.010010</td>\n",
              "      <td>230807</td>\n",
              "      <td>0.0</td>\n",
              "      <td>0.0</td>\n",
              "    </tr>\n",
              "    <tr>\n",
              "      <th>2023-01-03 13:30:00-05:00</th>\n",
              "      <td>307.989990</td>\n",
              "      <td>308.700012</td>\n",
              "      <td>307.380005</td>\n",
              "      <td>308.195007</td>\n",
              "      <td>208427</td>\n",
              "      <td>0.0</td>\n",
              "      <td>0.0</td>\n",
              "    </tr>\n",
              "    <tr>\n",
              "      <th>...</th>\n",
              "      <td>...</td>\n",
              "      <td>...</td>\n",
              "      <td>...</td>\n",
              "      <td>...</td>\n",
              "      <td>...</td>\n",
              "      <td>...</td>\n",
              "      <td>...</td>\n",
              "    </tr>\n",
              "    <tr>\n",
              "      <th>2023-12-29 11:30:00-05:00</th>\n",
              "      <td>356.700012</td>\n",
              "      <td>356.989990</td>\n",
              "      <td>355.510010</td>\n",
              "      <td>355.670013</td>\n",
              "      <td>212870</td>\n",
              "      <td>0.0</td>\n",
              "      <td>0.0</td>\n",
              "    </tr>\n",
              "    <tr>\n",
              "      <th>2023-12-29 12:30:00-05:00</th>\n",
              "      <td>355.713989</td>\n",
              "      <td>356.059906</td>\n",
              "      <td>355.309998</td>\n",
              "      <td>355.489990</td>\n",
              "      <td>261654</td>\n",
              "      <td>0.0</td>\n",
              "      <td>0.0</td>\n",
              "    </tr>\n",
              "    <tr>\n",
              "      <th>2023-12-29 13:30:00-05:00</th>\n",
              "      <td>355.463501</td>\n",
              "      <td>356.079987</td>\n",
              "      <td>355.429993</td>\n",
              "      <td>355.820007</td>\n",
              "      <td>299533</td>\n",
              "      <td>0.0</td>\n",
              "      <td>0.0</td>\n",
              "    </tr>\n",
              "    <tr>\n",
              "      <th>2023-12-29 14:30:00-05:00</th>\n",
              "      <td>355.839996</td>\n",
              "      <td>357.159912</td>\n",
              "      <td>355.777191</td>\n",
              "      <td>357.095001</td>\n",
              "      <td>273227</td>\n",
              "      <td>0.0</td>\n",
              "      <td>0.0</td>\n",
              "    </tr>\n",
              "    <tr>\n",
              "      <th>2023-12-29 15:30:00-05:00</th>\n",
              "      <td>357.100006</td>\n",
              "      <td>357.339996</td>\n",
              "      <td>356.579987</td>\n",
              "      <td>356.929993</td>\n",
              "      <td>642974</td>\n",
              "      <td>0.0</td>\n",
              "      <td>0.0</td>\n",
              "    </tr>\n",
              "  </tbody>\n",
              "</table>\n",
              "<p>1742 rows × 7 columns</p>\n",
              "</div>"
            ],
            "text/plain": [
              "                                 Open        High         Low       Close  \\\n",
              "Datetime                                                                    \n",
              "2023-01-03 09:30:00-05:00  309.899994  312.385010  308.899994  310.279999   \n",
              "2023-01-03 10:30:00-05:00  310.359985  311.219910  308.570007  309.111603   \n",
              "2023-01-03 11:30:00-05:00  309.170013  309.170013  307.920898  308.220001   \n",
              "2023-01-03 12:30:00-05:00  308.200012  309.154999  307.490997  308.010010   \n",
              "2023-01-03 13:30:00-05:00  307.989990  308.700012  307.380005  308.195007   \n",
              "...                               ...         ...         ...         ...   \n",
              "2023-12-29 11:30:00-05:00  356.700012  356.989990  355.510010  355.670013   \n",
              "2023-12-29 12:30:00-05:00  355.713989  356.059906  355.309998  355.489990   \n",
              "2023-12-29 13:30:00-05:00  355.463501  356.079987  355.429993  355.820007   \n",
              "2023-12-29 14:30:00-05:00  355.839996  357.159912  355.777191  357.095001   \n",
              "2023-12-29 15:30:00-05:00  357.100006  357.339996  356.579987  356.929993   \n",
              "\n",
              "                           Volume  Dividends  Stock Splits  \n",
              "Datetime                                                    \n",
              "2023-01-03 09:30:00-05:00  852803        0.0           0.0  \n",
              "2023-01-03 10:30:00-05:00  309200        0.0           0.0  \n",
              "2023-01-03 11:30:00-05:00  253184        0.0           0.0  \n",
              "2023-01-03 12:30:00-05:00  230807        0.0           0.0  \n",
              "2023-01-03 13:30:00-05:00  208427        0.0           0.0  \n",
              "...                           ...        ...           ...  \n",
              "2023-12-29 11:30:00-05:00  212870        0.0           0.0  \n",
              "2023-12-29 12:30:00-05:00  261654        0.0           0.0  \n",
              "2023-12-29 13:30:00-05:00  299533        0.0           0.0  \n",
              "2023-12-29 14:30:00-05:00  273227        0.0           0.0  \n",
              "2023-12-29 15:30:00-05:00  642974        0.0           0.0  \n",
              "\n",
              "[1742 rows x 7 columns]"
            ]
          },
          "execution_count": 8,
          "metadata": {},
          "output_type": "execute_result"
        }
      ],
      "source": [
        "BH_price_df"
      ]
    },
    {
      "cell_type": "code",
      "execution_count": null,
      "id": "4daad19c-b7a9-44ad-9e5d-96bd0f3d4031",
      "metadata": {
        "id": "4daad19c-b7a9-44ad-9e5d-96bd0f3d4031"
      },
      "outputs": [],
      "source": [
        "df = BH_price_df.copy()"
      ]
    },
    {
      "cell_type": "code",
      "execution_count": null,
      "id": "9874246b-8563-48c2-97d6-a4323bc592db",
      "metadata": {
        "scrolled": true,
        "id": "9874246b-8563-48c2-97d6-a4323bc592db",
        "outputId": "fb6f1e62-2fd9-47ce-e18d-b885899faa65"
      },
      "outputs": [
        {
          "data": {
            "text/html": [
              "<div>\n",
              "<style scoped>\n",
              "    .dataframe tbody tr th:only-of-type {\n",
              "        vertical-align: middle;\n",
              "    }\n",
              "\n",
              "    .dataframe tbody tr th {\n",
              "        vertical-align: top;\n",
              "    }\n",
              "\n",
              "    .dataframe thead th {\n",
              "        text-align: right;\n",
              "    }\n",
              "</style>\n",
              "<table border=\"1\" class=\"dataframe\">\n",
              "  <thead>\n",
              "    <tr style=\"text-align: right;\">\n",
              "      <th></th>\n",
              "      <th>Open</th>\n",
              "      <th>High</th>\n",
              "      <th>Low</th>\n",
              "      <th>Close</th>\n",
              "    </tr>\n",
              "    <tr>\n",
              "      <th>Datetime</th>\n",
              "      <th></th>\n",
              "      <th></th>\n",
              "      <th></th>\n",
              "      <th></th>\n",
              "    </tr>\n",
              "  </thead>\n",
              "  <tbody>\n",
              "    <tr>\n",
              "      <th>2023-01-03 09:30:00-05:00</th>\n",
              "      <td>309.899994</td>\n",
              "      <td>312.385010</td>\n",
              "      <td>308.899994</td>\n",
              "      <td>310.279999</td>\n",
              "    </tr>\n",
              "    <tr>\n",
              "      <th>2023-01-03 10:30:00-05:00</th>\n",
              "      <td>310.359985</td>\n",
              "      <td>311.219910</td>\n",
              "      <td>308.570007</td>\n",
              "      <td>309.111603</td>\n",
              "    </tr>\n",
              "    <tr>\n",
              "      <th>2023-01-03 11:30:00-05:00</th>\n",
              "      <td>309.170013</td>\n",
              "      <td>309.170013</td>\n",
              "      <td>307.920898</td>\n",
              "      <td>308.220001</td>\n",
              "    </tr>\n",
              "    <tr>\n",
              "      <th>2023-01-03 12:30:00-05:00</th>\n",
              "      <td>308.200012</td>\n",
              "      <td>309.154999</td>\n",
              "      <td>307.490997</td>\n",
              "      <td>308.010010</td>\n",
              "    </tr>\n",
              "    <tr>\n",
              "      <th>2023-01-03 13:30:00-05:00</th>\n",
              "      <td>307.989990</td>\n",
              "      <td>308.700012</td>\n",
              "      <td>307.380005</td>\n",
              "      <td>308.195007</td>\n",
              "    </tr>\n",
              "  </tbody>\n",
              "</table>\n",
              "</div>"
            ],
            "text/plain": [
              "                                 Open        High         Low       Close\n",
              "Datetime                                                                 \n",
              "2023-01-03 09:30:00-05:00  309.899994  312.385010  308.899994  310.279999\n",
              "2023-01-03 10:30:00-05:00  310.359985  311.219910  308.570007  309.111603\n",
              "2023-01-03 11:30:00-05:00  309.170013  309.170013  307.920898  308.220001\n",
              "2023-01-03 12:30:00-05:00  308.200012  309.154999  307.490997  308.010010\n",
              "2023-01-03 13:30:00-05:00  307.989990  308.700012  307.380005  308.195007"
            ]
          },
          "execution_count": 10,
          "metadata": {},
          "output_type": "execute_result"
        }
      ],
      "source": [
        "df = df.iloc[:, :4]\n",
        "df.head()"
      ]
    },
    {
      "cell_type": "markdown",
      "id": "357dd6af-edb3-4690-abc8-92faf0a32439",
      "metadata": {
        "id": "357dd6af-edb3-4690-abc8-92faf0a32439"
      },
      "source": [
        "## Step 2: Define Predictor/Independent Variables\n",
        "- We will use 10-days moving average, correlation, relative strength index (RSI), the difference between the open price of yesterday and today, the difference between the close price of yesterday and the open price of today. Also, open, high, low, and close prices will be used as indicators to make the prediction."
      ]
    },
    {
      "cell_type": "markdown",
      "id": "565cdf19-4f7a-4574-a4cb-9aea671943e3",
      "metadata": {
        "id": "565cdf19-4f7a-4574-a4cb-9aea671943e3"
      },
      "source": [
        "## วิธีแก้ไขกรณี ติดตั้ง Ta-lib ไม่ได้\n",
        "- https://blog.quantinsti.com/install-ta-lib-python/#install-ta-lib-on-macos\n",
        "- https://blog.quantinsti.com/install-ta-lib-python/"
      ]
    },
    {
      "cell_type": "code",
      "execution_count": null,
      "id": "d08a26c1-62ed-454e-8fb3-f10e65a3df8a",
      "metadata": {
        "id": "d08a26c1-62ed-454e-8fb3-f10e65a3df8a",
        "outputId": "e743a96e-d580-4eda-8efd-d33a32c0bc45"
      },
      "outputs": [
        {
          "name": "stdout",
          "output_type": "stream",
          "text": [
            "Requirement already satisfied: TA-lib in /Users/anonsuksak/miniconda3/lib/python3.10/site-packages (0.4.28)\n",
            "Requirement already satisfied: numpy in /Users/anonsuksak/miniconda3/lib/python3.10/site-packages (from TA-lib) (1.26.4)\n",
            "Note: you may need to restart the kernel to use updated packages.\n"
          ]
        }
      ],
      "source": [
        "pip install TA-lib"
      ]
    },
    {
      "cell_type": "code",
      "execution_count": null,
      "id": "ddb29f05-3af1-4e91-a01f-d6876dd18b4e",
      "metadata": {
        "id": "ddb29f05-3af1-4e91-a01f-d6876dd18b4e"
      },
      "outputs": [],
      "source": [
        "import talib as ta"
      ]
    },
    {
      "cell_type": "code",
      "execution_count": null,
      "id": "f7b2be65-9417-4ae0-a2cf-411553b17d01",
      "metadata": {
        "id": "f7b2be65-9417-4ae0-a2cf-411553b17d01",
        "outputId": "3ddbf335-12a3-4d21-b13e-1e08022c52b8"
      },
      "outputs": [
        {
          "data": {
            "text/html": [
              "<div>\n",
              "<style scoped>\n",
              "    .dataframe tbody tr th:only-of-type {\n",
              "        vertical-align: middle;\n",
              "    }\n",
              "\n",
              "    .dataframe tbody tr th {\n",
              "        vertical-align: top;\n",
              "    }\n",
              "\n",
              "    .dataframe thead th {\n",
              "        text-align: right;\n",
              "    }\n",
              "</style>\n",
              "<table border=\"1\" class=\"dataframe\">\n",
              "  <thead>\n",
              "    <tr style=\"text-align: right;\">\n",
              "      <th></th>\n",
              "      <th>Open</th>\n",
              "      <th>High</th>\n",
              "      <th>Low</th>\n",
              "      <th>Close</th>\n",
              "      <th>S_10</th>\n",
              "      <th>Corr</th>\n",
              "      <th>RSI</th>\n",
              "      <th>Open-Close</th>\n",
              "      <th>Open-Open</th>\n",
              "    </tr>\n",
              "    <tr>\n",
              "      <th>Datetime</th>\n",
              "      <th></th>\n",
              "      <th></th>\n",
              "      <th></th>\n",
              "      <th></th>\n",
              "      <th></th>\n",
              "      <th></th>\n",
              "      <th></th>\n",
              "      <th></th>\n",
              "      <th></th>\n",
              "    </tr>\n",
              "  </thead>\n",
              "  <tbody>\n",
              "    <tr>\n",
              "      <th>2023-01-05 13:30:00-05:00</th>\n",
              "      <td>312.640015</td>\n",
              "      <td>314.089996</td>\n",
              "      <td>312.630005</td>\n",
              "      <td>312.790009</td>\n",
              "      <td>313.374777</td>\n",
              "      <td>-0.798585</td>\n",
              "      <td>54.840032</td>\n",
              "      <td>-0.082794</td>\n",
              "      <td>0.870026</td>\n",
              "    </tr>\n",
              "    <tr>\n",
              "      <th>2023-01-05 14:30:00-05:00</th>\n",
              "      <td>312.790009</td>\n",
              "      <td>313.589996</td>\n",
              "      <td>311.820007</td>\n",
              "      <td>312.059998</td>\n",
              "      <td>313.053278</td>\n",
              "      <td>-0.791204</td>\n",
              "      <td>50.897870</td>\n",
              "      <td>0.000000</td>\n",
              "      <td>0.149994</td>\n",
              "    </tr>\n",
              "    <tr>\n",
              "      <th>2023-01-05 15:30:00-05:00</th>\n",
              "      <td>311.959991</td>\n",
              "      <td>312.989990</td>\n",
              "      <td>311.679993</td>\n",
              "      <td>312.769989</td>\n",
              "      <td>312.703278</td>\n",
              "      <td>-0.617879</td>\n",
              "      <td>54.437256</td>\n",
              "      <td>-0.100006</td>\n",
              "      <td>-0.830017</td>\n",
              "    </tr>\n",
              "    <tr>\n",
              "      <th>2023-01-06 09:30:00-05:00</th>\n",
              "      <td>315.000000</td>\n",
              "      <td>316.920013</td>\n",
              "      <td>313.380005</td>\n",
              "      <td>316.239990</td>\n",
              "      <td>312.959277</td>\n",
              "      <td>-0.533623</td>\n",
              "      <td>67.254892</td>\n",
              "      <td>2.230011</td>\n",
              "      <td>3.040009</td>\n",
              "    </tr>\n",
              "    <tr>\n",
              "      <th>2023-01-06 10:30:00-05:00</th>\n",
              "      <td>316.339996</td>\n",
              "      <td>318.779999</td>\n",
              "      <td>316.320007</td>\n",
              "      <td>317.765015</td>\n",
              "      <td>313.273779</td>\n",
              "      <td>-0.185809</td>\n",
              "      <td>71.209888</td>\n",
              "      <td>0.100006</td>\n",
              "      <td>1.339996</td>\n",
              "    </tr>\n",
              "    <tr>\n",
              "      <th>...</th>\n",
              "      <td>...</td>\n",
              "      <td>...</td>\n",
              "      <td>...</td>\n",
              "      <td>...</td>\n",
              "      <td>...</td>\n",
              "      <td>...</td>\n",
              "      <td>...</td>\n",
              "      <td>...</td>\n",
              "      <td>...</td>\n",
              "    </tr>\n",
              "    <tr>\n",
              "      <th>2023-12-29 11:30:00-05:00</th>\n",
              "      <td>356.700012</td>\n",
              "      <td>356.989990</td>\n",
              "      <td>355.510010</td>\n",
              "      <td>355.670013</td>\n",
              "      <td>357.542001</td>\n",
              "      <td>-0.365859</td>\n",
              "      <td>33.787111</td>\n",
              "      <td>-0.029999</td>\n",
              "      <td>-1.159973</td>\n",
              "    </tr>\n",
              "    <tr>\n",
              "      <th>2023-12-29 12:30:00-05:00</th>\n",
              "      <td>355.713989</td>\n",
              "      <td>356.059906</td>\n",
              "      <td>355.309998</td>\n",
              "      <td>355.489990</td>\n",
              "      <td>357.341000</td>\n",
              "      <td>-0.389754</td>\n",
              "      <td>32.483064</td>\n",
              "      <td>0.043976</td>\n",
              "      <td>-0.986023</td>\n",
              "    </tr>\n",
              "    <tr>\n",
              "      <th>2023-12-29 13:30:00-05:00</th>\n",
              "      <td>355.463501</td>\n",
              "      <td>356.079987</td>\n",
              "      <td>355.429993</td>\n",
              "      <td>355.820007</td>\n",
              "      <td>357.165002</td>\n",
              "      <td>-0.316165</td>\n",
              "      <td>37.404070</td>\n",
              "      <td>-0.026489</td>\n",
              "      <td>-0.250488</td>\n",
              "    </tr>\n",
              "    <tr>\n",
              "      <th>2023-12-29 14:30:00-05:00</th>\n",
              "      <td>355.839996</td>\n",
              "      <td>357.159912</td>\n",
              "      <td>355.777191</td>\n",
              "      <td>357.095001</td>\n",
              "      <td>357.100504</td>\n",
              "      <td>-0.253698</td>\n",
              "      <td>52.321471</td>\n",
              "      <td>0.019989</td>\n",
              "      <td>0.376495</td>\n",
              "    </tr>\n",
              "    <tr>\n",
              "      <th>2023-12-29 15:30:00-05:00</th>\n",
              "      <td>357.100006</td>\n",
              "      <td>357.339996</td>\n",
              "      <td>356.579987</td>\n",
              "      <td>356.929993</td>\n",
              "      <td>356.993503</td>\n",
              "      <td>-0.082220</td>\n",
              "      <td>50.587870</td>\n",
              "      <td>0.005005</td>\n",
              "      <td>1.260010</td>\n",
              "    </tr>\n",
              "  </tbody>\n",
              "</table>\n",
              "<p>1724 rows × 9 columns</p>\n",
              "</div>"
            ],
            "text/plain": [
              "                                 Open        High         Low       Close  \\\n",
              "Datetime                                                                    \n",
              "2023-01-05 13:30:00-05:00  312.640015  314.089996  312.630005  312.790009   \n",
              "2023-01-05 14:30:00-05:00  312.790009  313.589996  311.820007  312.059998   \n",
              "2023-01-05 15:30:00-05:00  311.959991  312.989990  311.679993  312.769989   \n",
              "2023-01-06 09:30:00-05:00  315.000000  316.920013  313.380005  316.239990   \n",
              "2023-01-06 10:30:00-05:00  316.339996  318.779999  316.320007  317.765015   \n",
              "...                               ...         ...         ...         ...   \n",
              "2023-12-29 11:30:00-05:00  356.700012  356.989990  355.510010  355.670013   \n",
              "2023-12-29 12:30:00-05:00  355.713989  356.059906  355.309998  355.489990   \n",
              "2023-12-29 13:30:00-05:00  355.463501  356.079987  355.429993  355.820007   \n",
              "2023-12-29 14:30:00-05:00  355.839996  357.159912  355.777191  357.095001   \n",
              "2023-12-29 15:30:00-05:00  357.100006  357.339996  356.579987  356.929993   \n",
              "\n",
              "                                 S_10      Corr        RSI  Open-Close  \\\n",
              "Datetime                                                                 \n",
              "2023-01-05 13:30:00-05:00  313.374777 -0.798585  54.840032   -0.082794   \n",
              "2023-01-05 14:30:00-05:00  313.053278 -0.791204  50.897870    0.000000   \n",
              "2023-01-05 15:30:00-05:00  312.703278 -0.617879  54.437256   -0.100006   \n",
              "2023-01-06 09:30:00-05:00  312.959277 -0.533623  67.254892    2.230011   \n",
              "2023-01-06 10:30:00-05:00  313.273779 -0.185809  71.209888    0.100006   \n",
              "...                               ...       ...        ...         ...   \n",
              "2023-12-29 11:30:00-05:00  357.542001 -0.365859  33.787111   -0.029999   \n",
              "2023-12-29 12:30:00-05:00  357.341000 -0.389754  32.483064    0.043976   \n",
              "2023-12-29 13:30:00-05:00  357.165002 -0.316165  37.404070   -0.026489   \n",
              "2023-12-29 14:30:00-05:00  357.100504 -0.253698  52.321471    0.019989   \n",
              "2023-12-29 15:30:00-05:00  356.993503 -0.082220  50.587870    0.005005   \n",
              "\n",
              "                           Open-Open  \n",
              "Datetime                              \n",
              "2023-01-05 13:30:00-05:00   0.870026  \n",
              "2023-01-05 14:30:00-05:00   0.149994  \n",
              "2023-01-05 15:30:00-05:00  -0.830017  \n",
              "2023-01-06 09:30:00-05:00   3.040009  \n",
              "2023-01-06 10:30:00-05:00   1.339996  \n",
              "...                              ...  \n",
              "2023-12-29 11:30:00-05:00  -1.159973  \n",
              "2023-12-29 12:30:00-05:00  -0.986023  \n",
              "2023-12-29 13:30:00-05:00  -0.250488  \n",
              "2023-12-29 14:30:00-05:00   0.376495  \n",
              "2023-12-29 15:30:00-05:00   1.260010  \n",
              "\n",
              "[1724 rows x 9 columns]"
            ]
          },
          "execution_count": 13,
          "metadata": {},
          "output_type": "execute_result"
        }
      ],
      "source": [
        "df['S_10'] = df['Close'].rolling(window=10).mean()\n",
        "df['Corr'] = df['Close'].rolling(window=10).corr(df['S_10'])\n",
        "df['RSI'] = ta.RSI(np.array(df['Close']), timeperiod =10)\n",
        "df['Open-Close'] = df['Open'] - df['Close'].shift(1)\n",
        "df['Open-Open'] = df['Open'] - df['Open'].shift(1)\n",
        "df = df.dropna()\n",
        "X = df.iloc[:,:9]\n",
        "X"
      ]
    },
    {
      "cell_type": "markdown",
      "id": "5f55a039-7da4-44f3-b632-50c3f4685f13",
      "metadata": {
        "id": "5f55a039-7da4-44f3-b632-50c3f4685f13"
      },
      "source": [
        "## Step 3: Define Target/Dependent Variable\n",
        "- The dependent variable is the same as discussed in the above example. If tomorrow’s closing price is higher than today’s closing price, then we will buy the stock (1), else we will sell it (-1)."
      ]
    },
    {
      "cell_type": "code",
      "execution_count": null,
      "id": "60d80732-3c85-4fa9-9622-36e9ac11d19e",
      "metadata": {
        "id": "60d80732-3c85-4fa9-9622-36e9ac11d19e"
      },
      "outputs": [],
      "source": [
        "y = np.where(df['Close'].shift(-1) > df['Close'],1,-1)"
      ]
    },
    {
      "cell_type": "code",
      "execution_count": null,
      "id": "fba8c7f2-e8ee-4fff-89ec-dd817ad3fae5",
      "metadata": {
        "scrolled": true,
        "id": "fba8c7f2-e8ee-4fff-89ec-dd817ad3fae5",
        "outputId": "5a0f5b8f-2d3d-4bf5-9236-02f440b767f8"
      },
      "outputs": [
        {
          "data": {
            "text/plain": [
              "Datetime\n",
              "2023-01-05 13:30:00-05:00    312.790009\n",
              "2023-01-05 14:30:00-05:00    312.059998\n",
              "2023-01-05 15:30:00-05:00    312.769989\n",
              "2023-01-06 09:30:00-05:00    316.239990\n",
              "2023-01-06 10:30:00-05:00    317.765015\n",
              "                                ...    \n",
              "2023-12-29 11:30:00-05:00    355.670013\n",
              "2023-12-29 12:30:00-05:00    355.489990\n",
              "2023-12-29 13:30:00-05:00    355.820007\n",
              "2023-12-29 14:30:00-05:00    357.095001\n",
              "2023-12-29 15:30:00-05:00    356.929993\n",
              "Name: Close, Length: 1724, dtype: float64"
            ]
          },
          "execution_count": 15,
          "metadata": {},
          "output_type": "execute_result"
        }
      ],
      "source": [
        "df['Close'] ##ต้องการดูราคาปิดของแต่ละชั่วโมงในแต่ละวัน"
      ]
    },
    {
      "cell_type": "code",
      "execution_count": null,
      "id": "6512b0d7-ef82-439e-bb1a-1d4aed92f081",
      "metadata": {
        "id": "6512b0d7-ef82-439e-bb1a-1d4aed92f081",
        "outputId": "0cc1a524-bef3-4143-e381-c45cfcb82f3e"
      },
      "outputs": [
        {
          "data": {
            "text/plain": [
              "Datetime\n",
              "2023-01-05 13:30:00-05:00    312.059998\n",
              "2023-01-05 14:30:00-05:00    312.769989\n",
              "2023-01-05 15:30:00-05:00    316.239990\n",
              "2023-01-06 09:30:00-05:00    317.765015\n",
              "2023-01-06 10:30:00-05:00    316.730011\n",
              "                                ...    \n",
              "2023-12-29 11:30:00-05:00    355.489990\n",
              "2023-12-29 12:30:00-05:00    355.820007\n",
              "2023-12-29 13:30:00-05:00    357.095001\n",
              "2023-12-29 14:30:00-05:00    356.929993\n",
              "2023-12-29 15:30:00-05:00           NaN\n",
              "Name: Close, Length: 1724, dtype: float64"
            ]
          },
          "execution_count": 16,
          "metadata": {},
          "output_type": "execute_result"
        }
      ],
      "source": [
        "df['Close'].shift(-1) ##ต้องการดูราคาปิดของชั่วโมงหลังจากช่วงเวลาที่สนใจ"
      ]
    },
    {
      "cell_type": "code",
      "execution_count": null,
      "id": "ef9952b0-b0b7-4fc0-81e5-0bc0c99bc12d",
      "metadata": {
        "id": "ef9952b0-b0b7-4fc0-81e5-0bc0c99bc12d",
        "outputId": "f637e5a6-b29b-400e-d57a-695deaf84c6a"
      },
      "outputs": [
        {
          "data": {
            "text/plain": [
              "Datetime\n",
              "2023-01-05 13:30:00-05:00           NaN\n",
              "2023-01-05 14:30:00-05:00    312.790009\n",
              "2023-01-05 15:30:00-05:00    312.059998\n",
              "2023-01-06 09:30:00-05:00    312.769989\n",
              "2023-01-06 10:30:00-05:00    316.239990\n",
              "                                ...    \n",
              "2023-12-29 11:30:00-05:00    356.730011\n",
              "2023-12-29 12:30:00-05:00    355.670013\n",
              "2023-12-29 13:30:00-05:00    355.489990\n",
              "2023-12-29 14:30:00-05:00    355.820007\n",
              "2023-12-29 15:30:00-05:00    357.095001\n",
              "Name: Close, Length: 1724, dtype: float64"
            ]
          },
          "execution_count": 17,
          "metadata": {},
          "output_type": "execute_result"
        }
      ],
      "source": [
        "df['Close'].shift(1) ##ต้องการดูราคาปิดของชั่วโมงก่อนหน้า"
      ]
    },
    {
      "cell_type": "markdown",
      "id": "b0a17885-a580-4e21-a25b-552eca2cd1a3",
      "metadata": {
        "id": "b0a17885-a580-4e21-a25b-552eca2cd1a3"
      },
      "source": [
        "## Step 4: Split The Dataset\n",
        "- We will split the dataset into a training dataset and test dataset. We will use 70% of our data to train and the rest 30% to test. To do this, we will create a split variable which will divide the data frame in a 70-30 ratio. ‘Xtrain’ and ‘Ytrain’ are train dataset. ‘Xtest’ and ‘Ytest’ are the test dataset."
      ]
    },
    {
      "cell_type": "code",
      "execution_count": null,
      "id": "7a7fa5a7-be76-4afc-9ac9-65793866590a",
      "metadata": {
        "id": "7a7fa5a7-be76-4afc-9ac9-65793866590a"
      },
      "outputs": [],
      "source": [
        "split = int(0.7*len(df))\n",
        "X_train, X_test, y_train, y_test = X[:split], X[split:], y[:split], y[split:]"
      ]
    },
    {
      "cell_type": "markdown",
      "id": "4c7256e9-3a0d-4f2c-8316-ed0d787077ea",
      "metadata": {
        "id": "4c7256e9-3a0d-4f2c-8316-ed0d787077ea"
      },
      "source": [
        "## Step 5: Instantiate The Logistic Regression in Python\n",
        "- We will instantiate the logistic regression in Python using ‘LogisticRegression’ function and fit the model on the training dataset using ‘fit’ function."
      ]
    },
    {
      "cell_type": "code",
      "execution_count": null,
      "id": "be827862-99da-4725-9fc7-bb6370ea6e33",
      "metadata": {
        "id": "be827862-99da-4725-9fc7-bb6370ea6e33",
        "outputId": "fda0ea08-e813-461c-84a7-90a8501b4cbb"
      },
      "outputs": [
        {
          "name": "stdout",
          "output_type": "stream",
          "text": [
            "Requirement already satisfied: scikit-learn in /Users/anonsuksak/miniconda3/lib/python3.10/site-packages (1.4.0)\n",
            "Requirement already satisfied: numpy<2.0,>=1.19.5 in /Users/anonsuksak/miniconda3/lib/python3.10/site-packages (from scikit-learn) (1.26.4)\n",
            "Requirement already satisfied: scipy>=1.6.0 in /Users/anonsuksak/miniconda3/lib/python3.10/site-packages (from scikit-learn) (1.12.0)\n",
            "Requirement already satisfied: joblib>=1.2.0 in /Users/anonsuksak/miniconda3/lib/python3.10/site-packages (from scikit-learn) (1.3.2)\n",
            "Requirement already satisfied: threadpoolctl>=2.0.0 in /Users/anonsuksak/miniconda3/lib/python3.10/site-packages (from scikit-learn) (3.2.0)\n",
            "Note: you may need to restart the kernel to use updated packages.\n"
          ]
        }
      ],
      "source": [
        "pip install scikit-learn"
      ]
    },
    {
      "cell_type": "code",
      "execution_count": null,
      "id": "f54fa67f-db37-4fb2-b442-a0f140f19e0e",
      "metadata": {
        "id": "f54fa67f-db37-4fb2-b442-a0f140f19e0e"
      },
      "outputs": [],
      "source": [
        "# Machine learning\n",
        "from sklearn.linear_model import LogisticRegression\n",
        "from sklearn import metrics\n",
        "from sklearn.model_selection import cross_val_score"
      ]
    },
    {
      "cell_type": "code",
      "execution_count": null,
      "id": "72e9c00f-6b5b-4377-a15c-fef183ea0652",
      "metadata": {
        "id": "72e9c00f-6b5b-4377-a15c-fef183ea0652",
        "outputId": "58939f5b-c690-4e44-9c73-11b97121cc0a"
      },
      "outputs": [
        {
          "name": "stderr",
          "output_type": "stream",
          "text": [
            "/Users/anonsuksak/miniconda3/lib/python3.10/site-packages/sklearn/linear_model/_logistic.py:469: ConvergenceWarning: lbfgs failed to converge (status=1):\n",
            "STOP: TOTAL NO. of ITERATIONS REACHED LIMIT.\n",
            "\n",
            "Increase the number of iterations (max_iter) or scale the data as shown in:\n",
            "    https://scikit-learn.org/stable/modules/preprocessing.html\n",
            "Please also refer to the documentation for alternative solver options:\n",
            "    https://scikit-learn.org/stable/modules/linear_model.html#logistic-regression\n",
            "  n_iter_i = _check_optimize_result(\n"
          ]
        }
      ],
      "source": [
        "model = LogisticRegression()\n",
        "model = model.fit (X_train,y_train)"
      ]
    },
    {
      "cell_type": "markdown",
      "id": "750d7278-1c87-4e15-862b-3df6cac62a1b",
      "metadata": {
        "id": "750d7278-1c87-4e15-862b-3df6cac62a1b"
      },
      "source": [
        "## Step 6: Examine The Coefficients"
      ]
    },
    {
      "cell_type": "code",
      "execution_count": null,
      "id": "2b447f33-59bd-4188-94e2-06936eac4ed7",
      "metadata": {
        "id": "2b447f33-59bd-4188-94e2-06936eac4ed7",
        "outputId": "ded2166d-8658-4ca0-e4f7-bbe9584876c5"
      },
      "outputs": [
        {
          "data": {
            "text/html": [
              "<div>\n",
              "<style scoped>\n",
              "    .dataframe tbody tr th:only-of-type {\n",
              "        vertical-align: middle;\n",
              "    }\n",
              "\n",
              "    .dataframe tbody tr th {\n",
              "        vertical-align: top;\n",
              "    }\n",
              "\n",
              "    .dataframe thead th {\n",
              "        text-align: right;\n",
              "    }\n",
              "</style>\n",
              "<table border=\"1\" class=\"dataframe\">\n",
              "  <thead>\n",
              "    <tr style=\"text-align: right;\">\n",
              "      <th></th>\n",
              "      <th>0</th>\n",
              "      <th>1</th>\n",
              "    </tr>\n",
              "  </thead>\n",
              "  <tbody>\n",
              "    <tr>\n",
              "      <th>0</th>\n",
              "      <td>Open</td>\n",
              "      <td>[0.1567109534764581]</td>\n",
              "    </tr>\n",
              "    <tr>\n",
              "      <th>1</th>\n",
              "      <td>High</td>\n",
              "      <td>[-0.2652155534821792]</td>\n",
              "    </tr>\n",
              "    <tr>\n",
              "      <th>2</th>\n",
              "      <td>Low</td>\n",
              "      <td>[-0.02662930836757464]</td>\n",
              "    </tr>\n",
              "    <tr>\n",
              "      <th>3</th>\n",
              "      <td>Close</td>\n",
              "      <td>[0.18083509295189887]</td>\n",
              "    </tr>\n",
              "    <tr>\n",
              "      <th>4</th>\n",
              "      <td>S_10</td>\n",
              "      <td>[-0.04422566405890327]</td>\n",
              "    </tr>\n",
              "    <tr>\n",
              "      <th>5</th>\n",
              "      <td>Corr</td>\n",
              "      <td>[-0.11739698810491368]</td>\n",
              "    </tr>\n",
              "    <tr>\n",
              "      <th>6</th>\n",
              "      <td>RSI</td>\n",
              "      <td>[-0.004126019390934739]</td>\n",
              "    </tr>\n",
              "    <tr>\n",
              "      <th>7</th>\n",
              "      <td>Open-Close</td>\n",
              "      <td>[-0.08518495245702082]</td>\n",
              "    </tr>\n",
              "    <tr>\n",
              "      <th>8</th>\n",
              "      <td>Open-Open</td>\n",
              "      <td>[-0.0910717706791802]</td>\n",
              "    </tr>\n",
              "  </tbody>\n",
              "</table>\n",
              "</div>"
            ],
            "text/plain": [
              "            0                        1\n",
              "0        Open     [0.1567109534764581]\n",
              "1        High    [-0.2652155534821792]\n",
              "2         Low   [-0.02662930836757464]\n",
              "3       Close    [0.18083509295189887]\n",
              "4        S_10   [-0.04422566405890327]\n",
              "5        Corr   [-0.11739698810491368]\n",
              "6         RSI  [-0.004126019390934739]\n",
              "7  Open-Close   [-0.08518495245702082]\n",
              "8   Open-Open    [-0.0910717706791802]"
            ]
          },
          "execution_count": 22,
          "metadata": {},
          "output_type": "execute_result"
        }
      ],
      "source": [
        "pd.DataFrame(zip(X.columns, np.transpose(model.coef_)))"
      ]
    },
    {
      "cell_type": "markdown",
      "id": "77cbecc7-95e7-4350-9f92-54c5bad8300d",
      "metadata": {
        "id": "77cbecc7-95e7-4350-9f92-54c5bad8300d"
      },
      "source": [
        "## Step 7: Calculate Class Probabilities\n",
        "- We will calculate the probabilities of the class for the test dataset using ‘predict_proba’ function."
      ]
    },
    {
      "cell_type": "code",
      "execution_count": null,
      "id": "b2281f11-9662-4f7a-8717-e5d43aa259fc",
      "metadata": {
        "id": "b2281f11-9662-4f7a-8717-e5d43aa259fc",
        "outputId": "fb7c7bdd-0f53-4be7-fbe0-ba6ff30aac13"
      },
      "outputs": [
        {
          "data": {
            "text/plain": [
              "array([[0.46235838, 0.53764162],\n",
              "       [0.41132554, 0.58867446],\n",
              "       [0.43240728, 0.56759272],\n",
              "       ...,\n",
              "       [0.42355495, 0.57644505],\n",
              "       [0.45635821, 0.54364179],\n",
              "       [0.45361905, 0.54638095]])"
            ]
          },
          "execution_count": 23,
          "metadata": {},
          "output_type": "execute_result"
        }
      ],
      "source": [
        "# Specify the date for prediction\n",
        "prediction_date = '2024-12-31'\n",
        "probability = model.predict_proba(X_test)\n",
        "probability"
      ]
    },
    {
      "cell_type": "markdown",
      "id": "86927bf4-64e3-41d5-a0d5-46a80400bcd7",
      "metadata": {
        "id": "86927bf4-64e3-41d5-a0d5-46a80400bcd7"
      },
      "source": [
        "## Step 8: Predict Class Labels\n",
        "- Next, we will predict the class labels using predict function for the test dataset.\n",
        "- In the output above, the signal shows 1, which is a buy signal\n",
        "- -1 is a sell signal"
      ]
    },
    {
      "cell_type": "code",
      "execution_count": null,
      "id": "7c93d369-0b9c-4618-917e-25dcd391a876",
      "metadata": {
        "scrolled": true,
        "id": "7c93d369-0b9c-4618-917e-25dcd391a876",
        "outputId": "573bf101-e3b6-4f8b-8d3b-d3cb47739336"
      },
      "outputs": [
        {
          "data": {
            "text/plain": [
              "array([ 1,  1,  1,  1,  1,  1,  1,  1,  1,  1,  1,  1,  1,  1,  1,  1,  1,\n",
              "        1, -1,  1,  1,  1,  1,  1,  1,  1,  1,  1,  1,  1,  1,  1,  1,  1,\n",
              "        1,  1,  1,  1,  1,  1,  1,  1,  1,  1,  1, -1,  1,  1,  1,  1,  1,\n",
              "        1,  1,  1,  1,  1,  1,  1,  1,  1,  1,  1,  1,  1,  1, -1,  1,  1,\n",
              "        1,  1,  1,  1,  1,  1, -1,  1,  1,  1,  1,  1, -1,  1,  1,  1,  1,\n",
              "       -1,  1,  1, -1,  1,  1,  1,  1,  1,  1, -1,  1, -1, -1,  1,  1,  1,\n",
              "        1, -1,  1,  1,  1,  1,  1,  1,  1, -1,  1,  1,  1,  1,  1,  1,  1,\n",
              "        1,  1,  1,  1,  1,  1,  1,  1,  1,  1,  1,  1,  1,  1,  1,  1,  1,\n",
              "        1,  1,  1,  1, -1,  1,  1, -1, -1, -1,  1, -1,  1,  1,  1, -1, -1,\n",
              "        1,  1,  1,  1,  1,  1,  1,  1,  1,  1,  1,  1,  1,  1,  1, -1, -1,\n",
              "        1,  1, -1,  1, -1, -1,  1,  1,  1, -1,  1, -1,  1,  1,  1,  1,  1,\n",
              "       -1,  1,  1,  1,  1,  1, -1,  1,  1,  1,  1,  1,  1,  1,  1, -1,  1,\n",
              "        1,  1,  1,  1,  1,  1,  1,  1, -1,  1,  1,  1,  1, -1,  1,  1,  1,\n",
              "       -1, -1,  1,  1,  1,  1,  1,  1,  1,  1, -1, -1,  1,  1, -1, -1, -1,\n",
              "        1,  1, -1,  1, -1, -1,  1,  1,  1,  1,  1, -1, -1,  1, -1,  1,  1,\n",
              "        1, -1,  1,  1,  1, -1,  1, -1, -1,  1,  1,  1,  1,  1,  1, -1,  1,\n",
              "        1,  1,  1,  1,  1, -1,  1,  1, -1,  1,  1,  1, -1,  1,  1,  1,  1,\n",
              "        1,  1,  1,  1,  1,  1,  1,  1,  1, -1,  1,  1,  1,  1,  1,  1,  1,\n",
              "        1,  1,  1,  1,  1,  1, -1,  1,  1,  1,  1,  1,  1,  1,  1,  1,  1,\n",
              "        1,  1,  1,  1,  1,  1,  1,  1,  1,  1,  1,  1,  1,  1,  1,  1,  1,\n",
              "        1,  1,  1,  1,  1,  1,  1,  1,  1,  1,  1,  1,  1,  1,  1,  1,  1,\n",
              "        1,  1,  1,  1,  1,  1,  1,  1,  1,  1,  1,  1,  1,  1, -1,  1,  1,\n",
              "        1,  1,  1,  1, -1,  1,  1,  1,  1,  1,  1, -1,  1,  1,  1,  1,  1,\n",
              "        1,  1,  1,  1,  1,  1,  1,  1, -1,  1,  1,  1,  1,  1,  1,  1,  1,\n",
              "        1,  1,  1,  1,  1,  1,  1,  1,  1,  1,  1,  1, -1, -1,  1,  1,  1,\n",
              "        1,  1, -1,  1,  1,  1,  1,  1,  1, -1,  1, -1,  1, -1, -1,  1, -1,\n",
              "        1,  1,  1,  1,  1,  1,  1,  1,  1,  1,  1,  1,  1, -1,  1,  1,  1,\n",
              "        1,  1,  1,  1,  1,  1,  1,  1,  1,  1, -1,  1,  1,  1,  1, -1,  1,\n",
              "       -1,  1, -1,  1,  1,  1,  1,  1,  1,  1,  1,  1,  1,  1,  1,  1,  1,\n",
              "        1,  1,  1,  1,  1,  1,  1,  1,  1,  1,  1,  1,  1,  1,  1,  1,  1,\n",
              "        1,  1,  1,  1,  1,  1,  1,  1])"
            ]
          },
          "execution_count": 24,
          "metadata": {},
          "output_type": "execute_result"
        }
      ],
      "source": [
        "predicted = model.predict(X_test)\n",
        "predicted"
      ]
    },
    {
      "cell_type": "markdown",
      "id": "260fdca4-668d-4206-a35a-5bc11b6880d3",
      "metadata": {
        "id": "260fdca4-668d-4206-a35a-5bc11b6880d3"
      },
      "source": [
        "## for which dates did it predict 1?"
      ]
    },
    {
      "cell_type": "code",
      "execution_count": null,
      "id": "c534740c-b672-4284-8df7-ee961a02c060",
      "metadata": {
        "id": "c534740c-b672-4284-8df7-ee961a02c060",
        "outputId": "573e5c66-dc16-42c3-9934-f669b4e267ed"
      },
      "outputs": [
        {
          "name": "stdout",
          "output_type": "stream",
          "text": [
            "                           Predicted\n",
            "Datetime                            \n",
            "2023-09-14 12:30:00-04:00          1\n",
            "2023-09-14 13:30:00-04:00          1\n",
            "2023-09-14 14:30:00-04:00          1\n",
            "2023-09-14 15:30:00-04:00          1\n",
            "2023-09-15 09:30:00-04:00          1\n",
            "...                              ...\n",
            "2023-12-29 11:30:00-05:00          1\n",
            "2023-12-29 12:30:00-05:00          1\n",
            "2023-12-29 13:30:00-05:00          1\n",
            "2023-12-29 14:30:00-05:00          1\n",
            "2023-12-29 15:30:00-05:00          1\n",
            "\n",
            "[447 rows x 1 columns]\n"
          ]
        }
      ],
      "source": [
        "# Convert the predicted values array into a pandas Series with original row indices\n",
        "predicted_df = pd.DataFrame({'Predicted': predicted}, index=X_test.index)\n",
        "filtered_df = predicted_df[predicted_df['Predicted'] == 1]\n",
        "\n",
        "# Display the filtered DataFrame\n",
        "print(filtered_df)"
      ]
    },
    {
      "cell_type": "markdown",
      "id": "e985fbc3-b506-436b-8b78-10926afe5422",
      "metadata": {
        "id": "e985fbc3-b506-436b-8b78-10926afe5422"
      },
      "source": [
        "## Step 9: Evaluate The Model\n",
        "## 9.1 Confusion Matrix\n",
        "- The Confusion matrix is used to describe the performance of the classification model on a set of test dataset for which the true values are known. We will calculate the confusion matrix using ‘confusion_matrix’ function."
      ]
    },
    {
      "cell_type": "code",
      "execution_count": null,
      "id": "20ba2768-7a59-4176-9205-12da1bf068d8",
      "metadata": {
        "id": "20ba2768-7a59-4176-9205-12da1bf068d8",
        "outputId": "26b4d73f-7fca-4775-eaa0-f1fdd195429c"
      },
      "outputs": [
        {
          "name": "stdout",
          "output_type": "stream",
          "text": [
            "[[ 38 206]\n",
            " [ 33 241]]\n"
          ]
        }
      ],
      "source": [
        "print(metrics.confusion_matrix(y_test, predicted))"
      ]
    },
    {
      "cell_type": "markdown",
      "id": "55a8e56a-a3ce-4861-ab3c-a8e6e0ee5fef",
      "metadata": {
        "id": "55a8e56a-a3ce-4861-ab3c-a8e6e0ee5fef"
      },
      "source": [
        "## 9.2 Classification Report\n",
        "- This is another method to examine the performance of the classification model."
      ]
    },
    {
      "cell_type": "code",
      "execution_count": null,
      "id": "7c9e25bb-39d4-43b4-bf1b-fab3fee37bcd",
      "metadata": {
        "id": "7c9e25bb-39d4-43b4-bf1b-fab3fee37bcd",
        "outputId": "6e0825c7-1bde-4760-89ba-a61be9b9d6d7"
      },
      "outputs": [
        {
          "name": "stdout",
          "output_type": "stream",
          "text": [
            "              precision    recall  f1-score   support\n",
            "\n",
            "          -1       0.54      0.16      0.24       244\n",
            "           1       0.54      0.88      0.67       274\n",
            "\n",
            "    accuracy                           0.54       518\n",
            "   macro avg       0.54      0.52      0.45       518\n",
            "weighted avg       0.54      0.54      0.47       518\n",
            "\n"
          ]
        }
      ],
      "source": [
        "print(metrics.classification_report(y_test, predicted))"
      ]
    },
    {
      "cell_type": "markdown",
      "id": "4ce8235e-de4d-4ad2-9ae0-3f299077763b",
      "metadata": {
        "id": "4ce8235e-de4d-4ad2-9ae0-3f299077763b"
      },
      "source": [
        "- The f1-score tells you the accuracy of the classifier in classifying the data points in that particular class compared to all other class. It is calculated by taking the harmonic mean of precision and recall. The support is the number of samples of the true response that lies in that class.\n",
        "- The accuracy of the model is at 0.54 or 54%."
      ]
    },
    {
      "cell_type": "markdown",
      "id": "65ebaa69-4cfa-4659-85c0-a6878a37510b",
      "metadata": {
        "id": "65ebaa69-4cfa-4659-85c0-a6878a37510b"
      },
      "source": [
        "## 9.3 Model Accuracy"
      ]
    },
    {
      "cell_type": "markdown",
      "id": "a5f16aae-c813-45c6-8a6f-75f265b97fd0",
      "metadata": {
        "id": "a5f16aae-c813-45c6-8a6f-75f265b97fd0"
      },
      "source": [
        "- We will calculate the model accuracy on the test dataset using ‘score’ function."
      ]
    },
    {
      "cell_type": "code",
      "execution_count": null,
      "id": "8e5cfccd-c1b5-48b5-be72-c5b1fbe1917c",
      "metadata": {
        "id": "8e5cfccd-c1b5-48b5-be72-c5b1fbe1917c",
        "outputId": "a6450d32-86f6-4649-e39a-ce87cbc63553"
      },
      "outputs": [
        {
          "name": "stdout",
          "output_type": "stream",
          "text": [
            "0.5386100386100386\n"
          ]
        }
      ],
      "source": [
        "print(model.score(X_test,y_test))"
      ]
    },
    {
      "cell_type": "markdown",
      "id": "92618d71-b621-48fd-8989-caffda14d11f",
      "metadata": {
        "id": "92618d71-b621-48fd-8989-caffda14d11f"
      },
      "source": [
        "## 9.4 Cross-Validation"
      ]
    },
    {
      "cell_type": "markdown",
      "id": "300b87a5-7f9a-48cb-8026-f40f8f3aaf93",
      "metadata": {
        "id": "300b87a5-7f9a-48cb-8026-f40f8f3aaf93"
      },
      "source": [
        "- We will cross-check the accuracy of the model using 10-fold cross-validation. For this, we will use ‘crossvalscore’ function which we have imported from ‘sklearn.cross_validation’ library."
      ]
    },
    {
      "cell_type": "code",
      "execution_count": null,
      "id": "e20a3996-fc76-4111-8d50-aa39236ba98c",
      "metadata": {
        "id": "e20a3996-fc76-4111-8d50-aa39236ba98c",
        "outputId": "bc6ddf04-5ee4-4b66-e03e-395f6ed11f15"
      },
      "outputs": [
        {
          "name": "stderr",
          "output_type": "stream",
          "text": [
            "/Users/anonsuksak/miniconda3/lib/python3.10/site-packages/sklearn/linear_model/_logistic.py:469: ConvergenceWarning: lbfgs failed to converge (status=1):\n",
            "STOP: TOTAL NO. of ITERATIONS REACHED LIMIT.\n",
            "\n",
            "Increase the number of iterations (max_iter) or scale the data as shown in:\n",
            "    https://scikit-learn.org/stable/modules/preprocessing.html\n",
            "Please also refer to the documentation for alternative solver options:\n",
            "    https://scikit-learn.org/stable/modules/linear_model.html#logistic-regression\n",
            "  n_iter_i = _check_optimize_result(\n",
            "/Users/anonsuksak/miniconda3/lib/python3.10/site-packages/sklearn/linear_model/_logistic.py:469: ConvergenceWarning: lbfgs failed to converge (status=1):\n",
            "STOP: TOTAL NO. of ITERATIONS REACHED LIMIT.\n",
            "\n",
            "Increase the number of iterations (max_iter) or scale the data as shown in:\n",
            "    https://scikit-learn.org/stable/modules/preprocessing.html\n",
            "Please also refer to the documentation for alternative solver options:\n",
            "    https://scikit-learn.org/stable/modules/linear_model.html#logistic-regression\n",
            "  n_iter_i = _check_optimize_result(\n",
            "/Users/anonsuksak/miniconda3/lib/python3.10/site-packages/sklearn/linear_model/_logistic.py:469: ConvergenceWarning: lbfgs failed to converge (status=1):\n",
            "STOP: TOTAL NO. of ITERATIONS REACHED LIMIT.\n",
            "\n",
            "Increase the number of iterations (max_iter) or scale the data as shown in:\n",
            "    https://scikit-learn.org/stable/modules/preprocessing.html\n",
            "Please also refer to the documentation for alternative solver options:\n",
            "    https://scikit-learn.org/stable/modules/linear_model.html#logistic-regression\n",
            "  n_iter_i = _check_optimize_result(\n",
            "/Users/anonsuksak/miniconda3/lib/python3.10/site-packages/sklearn/linear_model/_logistic.py:469: ConvergenceWarning: lbfgs failed to converge (status=1):\n",
            "STOP: TOTAL NO. of ITERATIONS REACHED LIMIT.\n",
            "\n",
            "Increase the number of iterations (max_iter) or scale the data as shown in:\n",
            "    https://scikit-learn.org/stable/modules/preprocessing.html\n",
            "Please also refer to the documentation for alternative solver options:\n",
            "    https://scikit-learn.org/stable/modules/linear_model.html#logistic-regression\n",
            "  n_iter_i = _check_optimize_result(\n",
            "/Users/anonsuksak/miniconda3/lib/python3.10/site-packages/sklearn/linear_model/_logistic.py:469: ConvergenceWarning: lbfgs failed to converge (status=1):\n",
            "STOP: TOTAL NO. of ITERATIONS REACHED LIMIT.\n",
            "\n",
            "Increase the number of iterations (max_iter) or scale the data as shown in:\n",
            "    https://scikit-learn.org/stable/modules/preprocessing.html\n",
            "Please also refer to the documentation for alternative solver options:\n",
            "    https://scikit-learn.org/stable/modules/linear_model.html#logistic-regression\n",
            "  n_iter_i = _check_optimize_result(\n",
            "/Users/anonsuksak/miniconda3/lib/python3.10/site-packages/sklearn/linear_model/_logistic.py:469: ConvergenceWarning: lbfgs failed to converge (status=1):\n",
            "STOP: TOTAL NO. of ITERATIONS REACHED LIMIT.\n",
            "\n",
            "Increase the number of iterations (max_iter) or scale the data as shown in:\n",
            "    https://scikit-learn.org/stable/modules/preprocessing.html\n",
            "Please also refer to the documentation for alternative solver options:\n",
            "    https://scikit-learn.org/stable/modules/linear_model.html#logistic-regression\n",
            "  n_iter_i = _check_optimize_result(\n",
            "/Users/anonsuksak/miniconda3/lib/python3.10/site-packages/sklearn/linear_model/_logistic.py:469: ConvergenceWarning: lbfgs failed to converge (status=1):\n",
            "STOP: TOTAL NO. of ITERATIONS REACHED LIMIT.\n",
            "\n",
            "Increase the number of iterations (max_iter) or scale the data as shown in:\n",
            "    https://scikit-learn.org/stable/modules/preprocessing.html\n",
            "Please also refer to the documentation for alternative solver options:\n",
            "    https://scikit-learn.org/stable/modules/linear_model.html#logistic-regression\n",
            "  n_iter_i = _check_optimize_result(\n",
            "/Users/anonsuksak/miniconda3/lib/python3.10/site-packages/sklearn/linear_model/_logistic.py:469: ConvergenceWarning: lbfgs failed to converge (status=1):\n",
            "STOP: TOTAL NO. of ITERATIONS REACHED LIMIT.\n",
            "\n",
            "Increase the number of iterations (max_iter) or scale the data as shown in:\n",
            "    https://scikit-learn.org/stable/modules/preprocessing.html\n",
            "Please also refer to the documentation for alternative solver options:\n",
            "    https://scikit-learn.org/stable/modules/linear_model.html#logistic-regression\n",
            "  n_iter_i = _check_optimize_result(\n",
            "/Users/anonsuksak/miniconda3/lib/python3.10/site-packages/sklearn/linear_model/_logistic.py:469: ConvergenceWarning: lbfgs failed to converge (status=1):\n",
            "STOP: TOTAL NO. of ITERATIONS REACHED LIMIT.\n",
            "\n",
            "Increase the number of iterations (max_iter) or scale the data as shown in:\n",
            "    https://scikit-learn.org/stable/modules/preprocessing.html\n",
            "Please also refer to the documentation for alternative solver options:\n",
            "    https://scikit-learn.org/stable/modules/linear_model.html#logistic-regression\n",
            "  n_iter_i = _check_optimize_result(\n"
          ]
        },
        {
          "name": "stdout",
          "output_type": "stream",
          "text": [
            "[0.52023121 0.46242775 0.59537572 0.56647399 0.51162791 0.55232558\n",
            " 0.51162791 0.5        0.52906977 0.52906977]\n",
            "0.5278229600752791\n"
          ]
        },
        {
          "name": "stderr",
          "output_type": "stream",
          "text": [
            "/Users/anonsuksak/miniconda3/lib/python3.10/site-packages/sklearn/linear_model/_logistic.py:469: ConvergenceWarning: lbfgs failed to converge (status=1):\n",
            "STOP: TOTAL NO. of ITERATIONS REACHED LIMIT.\n",
            "\n",
            "Increase the number of iterations (max_iter) or scale the data as shown in:\n",
            "    https://scikit-learn.org/stable/modules/preprocessing.html\n",
            "Please also refer to the documentation for alternative solver options:\n",
            "    https://scikit-learn.org/stable/modules/linear_model.html#logistic-regression\n",
            "  n_iter_i = _check_optimize_result(\n"
          ]
        }
      ],
      "source": [
        "cross_val = cross_val_score(LogisticRegression(), X, y, scoring='accuracy', cv=10)\n",
        "print(cross_val)\n",
        "print(cross_val.mean())"
      ]
    },
    {
      "cell_type": "markdown",
      "id": "411f297c-0c74-4f91-9b97-da377a49fd10",
      "metadata": {
        "id": "411f297c-0c74-4f91-9b97-da377a49fd10"
      },
      "source": [
        "- The accuracy is still 52.78% which means the model is working fine."
      ]
    },
    {
      "cell_type": "markdown",
      "id": "514f7f3b-ad94-4a6f-b284-b839317f32fb",
      "metadata": {
        "id": "514f7f3b-ad94-4a6f-b284-b839317f32fb"
      },
      "source": [
        "## Step 10: Create Trading Strategy Using The Model"
      ]
    },
    {
      "cell_type": "markdown",
      "id": "f5938f88-a0b3-48ff-ab8b-5a0a39f4de4b",
      "metadata": {
        "id": "f5938f88-a0b3-48ff-ab8b-5a0a39f4de4b"
      },
      "source": [
        "- We will predict the signal to buy (1) or sell (-1) and calculate the cumulative Berkshire_Hathaway returns for the test dataset. Next, we will calculate the cumulative strategy return based on the signal predicted by the model in the test dataset. We will also plot the cumulative returns."
      ]
    },
    {
      "cell_type": "code",
      "execution_count": null,
      "id": "2da885bd-c9d8-420e-bb37-97a6e924fcbe",
      "metadata": {
        "id": "2da885bd-c9d8-420e-bb37-97a6e924fcbe",
        "outputId": "c0f6683f-e07e-4442-928b-74233c3bdc3c"
      },
      "outputs": [
        {
          "name": "stdout",
          "output_type": "stream",
          "text": [
            "Requirement already satisfied: matplotlib in /Users/anonsuksak/miniconda3/lib/python3.10/site-packages (3.8.2)\n",
            "Requirement already satisfied: contourpy>=1.0.1 in /Users/anonsuksak/miniconda3/lib/python3.10/site-packages (from matplotlib) (1.2.0)\n",
            "Requirement already satisfied: cycler>=0.10 in /Users/anonsuksak/miniconda3/lib/python3.10/site-packages (from matplotlib) (0.12.1)\n",
            "Requirement already satisfied: fonttools>=4.22.0 in /Users/anonsuksak/miniconda3/lib/python3.10/site-packages (from matplotlib) (4.48.1)\n",
            "Requirement already satisfied: kiwisolver>=1.3.1 in /Users/anonsuksak/miniconda3/lib/python3.10/site-packages (from matplotlib) (1.4.5)\n",
            "Requirement already satisfied: numpy<2,>=1.21 in /Users/anonsuksak/miniconda3/lib/python3.10/site-packages (from matplotlib) (1.26.4)\n",
            "Requirement already satisfied: packaging>=20.0 in /Users/anonsuksak/miniconda3/lib/python3.10/site-packages (from matplotlib) (23.2)\n",
            "Requirement already satisfied: pillow>=8 in /Users/anonsuksak/miniconda3/lib/python3.10/site-packages (from matplotlib) (10.2.0)\n",
            "Requirement already satisfied: pyparsing>=2.3.1 in /Users/anonsuksak/miniconda3/lib/python3.10/site-packages (from matplotlib) (3.1.1)\n",
            "Requirement already satisfied: python-dateutil>=2.7 in /Users/anonsuksak/miniconda3/lib/python3.10/site-packages (from matplotlib) (2.8.2)\n",
            "Requirement already satisfied: six>=1.5 in /Users/anonsuksak/miniconda3/lib/python3.10/site-packages (from python-dateutil>=2.7->matplotlib) (1.16.0)\n",
            "Note: you may need to restart the kernel to use updated packages.\n"
          ]
        }
      ],
      "source": [
        "pip install matplotlib"
      ]
    },
    {
      "cell_type": "code",
      "execution_count": null,
      "id": "471e4018-4611-4243-8bae-91f20757cde3",
      "metadata": {
        "id": "471e4018-4611-4243-8bae-91f20757cde3"
      },
      "outputs": [],
      "source": [
        "# Plotting graphs\n",
        "import matplotlib.pyplot as plt"
      ]
    },
    {
      "cell_type": "code",
      "execution_count": null,
      "id": "2dbaf2ed-28c5-477c-b29e-f5eda4e1c75a",
      "metadata": {
        "scrolled": true,
        "id": "2dbaf2ed-28c5-477c-b29e-f5eda4e1c75a",
        "outputId": "127e20e5-b7b6-4a45-9f1a-48503dff9a34"
      },
      "outputs": [
        {
          "data": {
            "image/png": "[encoded data removed]",
            "text/plain": [
              "<Figure size 1000x500 with 1 Axes>"
            ]
          },
          "metadata": {},
          "output_type": "display_data"
        }
      ],
      "source": [
        "df['Predicted_Signal'] = model.predict(X)\n",
        "df['Berkshire_Hathaway_returns'] = np.log(df['Close']/df['Close'].shift(1))\n",
        "Cumulative_Berkshire_Hathaway_returns = np.cumsum(df[split:]['Berkshire_Hathaway_returns'])\n",
        "\n",
        "df['Startegy_returns'] = df['Berkshire_Hathaway_returns']* df['Predicted_Signal'].shift(1)\n",
        "Cumulative_Strategy_returns = np.cumsum(df[split:]['Startegy_returns'])\n",
        "\n",
        "plt.figure(figsize=(10,5))\n",
        "plt.plot(Cumulative_Berkshire_Hathaway_returns, color='r',label = 'Berkshire Hathaway Return')\n",
        "plt.plot(Cumulative_Strategy_returns, color='g', label = 'Strategy Returns')\n",
        "plt.legend()\n",
        "plt.show()"
      ]
    },
    {
      "cell_type": "markdown",
      "id": "8f2f6d77-0219-42cb-940e-14555138850a",
      "metadata": {
        "id": "8f2f6d77-0219-42cb-940e-14555138850a"
      },
      "source": [
        "## b. เพิ่ม feature (column) ต่างๆ ที่เราสนใจ จากนั้นให้ทำซ้ำตามข้อ (a.) แล้วแสดงผลลัพธ์ของกราฟเปรียบเทียบกับกราฟในข้อ a."
      ]
    },
    {
      "cell_type": "markdown",
      "id": "465e66de-6a3e-4639-b67f-13782e08e0c3",
      "metadata": {
        "id": "465e66de-6a3e-4639-b67f-13782e08e0c3"
      },
      "source": [
        "## Step 1: ต้องการทราบว่า ราคาปิดของหุ้นบริษัท Apple จะส่งต่อผลต่อผลตอบแทนและกระทบหุ้น Berkshire_Hathaway หรือไม่ โดยกำหนดช่วงเวลาเดียวกัน\n",
        "- เนื่องจากบริษัท Berkshine ลงทุนในหุ้น Apple คิดเป็นมากกว่า 50% ของการลงทุนทั้งหมดของตนเอง"
      ]
    },
    {
      "cell_type": "code",
      "execution_count": null,
      "id": "3d4739c6-9108-4f37-bdd6-9d1442e32a02",
      "metadata": {
        "id": "3d4739c6-9108-4f37-bdd6-9d1442e32a02",
        "outputId": "635d94d9-55ac-4f44-88c6-27be2aeeccb0"
      },
      "outputs": [
        {
          "data": {
            "text/html": [
              "<div>\n",
              "<style scoped>\n",
              "    .dataframe tbody tr th:only-of-type {\n",
              "        vertical-align: middle;\n",
              "    }\n",
              "\n",
              "    .dataframe tbody tr th {\n",
              "        vertical-align: top;\n",
              "    }\n",
              "\n",
              "    .dataframe thead th {\n",
              "        text-align: right;\n",
              "    }\n",
              "</style>\n",
              "<table border=\"1\" class=\"dataframe\">\n",
              "  <thead>\n",
              "    <tr style=\"text-align: right;\">\n",
              "      <th></th>\n",
              "      <th>Close</th>\n",
              "    </tr>\n",
              "    <tr>\n",
              "      <th>Datetime</th>\n",
              "      <th></th>\n",
              "    </tr>\n",
              "  </thead>\n",
              "  <tbody>\n",
              "    <tr>\n",
              "      <th>2023-01-03 09:30:00-05:00</th>\n",
              "      <td>125.459999</td>\n",
              "    </tr>\n",
              "    <tr>\n",
              "      <th>2023-01-03 10:30:00-05:00</th>\n",
              "      <td>125.345001</td>\n",
              "    </tr>\n",
              "    <tr>\n",
              "      <th>2023-01-03 11:30:00-05:00</th>\n",
              "      <td>124.660004</td>\n",
              "    </tr>\n",
              "    <tr>\n",
              "      <th>2023-01-03 12:30:00-05:00</th>\n",
              "      <td>124.649902</td>\n",
              "    </tr>\n",
              "    <tr>\n",
              "      <th>2023-01-03 13:30:00-05:00</th>\n",
              "      <td>124.570000</td>\n",
              "    </tr>\n",
              "    <tr>\n",
              "      <th>...</th>\n",
              "      <td>...</td>\n",
              "    </tr>\n",
              "    <tr>\n",
              "      <th>2023-12-29 11:30:00-05:00</th>\n",
              "      <td>191.899994</td>\n",
              "    </tr>\n",
              "    <tr>\n",
              "      <th>2023-12-29 12:30:00-05:00</th>\n",
              "      <td>191.899994</td>\n",
              "    </tr>\n",
              "    <tr>\n",
              "      <th>2023-12-29 13:30:00-05:00</th>\n",
              "      <td>192.119995</td>\n",
              "    </tr>\n",
              "    <tr>\n",
              "      <th>2023-12-29 14:30:00-05:00</th>\n",
              "      <td>192.679993</td>\n",
              "    </tr>\n",
              "    <tr>\n",
              "      <th>2023-12-29 15:30:00-05:00</th>\n",
              "      <td>192.520004</td>\n",
              "    </tr>\n",
              "  </tbody>\n",
              "</table>\n",
              "<p>1742 rows × 1 columns</p>\n",
              "</div>"
            ],
            "text/plain": [
              "                                Close\n",
              "Datetime                             \n",
              "2023-01-03 09:30:00-05:00  125.459999\n",
              "2023-01-03 10:30:00-05:00  125.345001\n",
              "2023-01-03 11:30:00-05:00  124.660004\n",
              "2023-01-03 12:30:00-05:00  124.649902\n",
              "2023-01-03 13:30:00-05:00  124.570000\n",
              "...                               ...\n",
              "2023-12-29 11:30:00-05:00  191.899994\n",
              "2023-12-29 12:30:00-05:00  191.899994\n",
              "2023-12-29 13:30:00-05:00  192.119995\n",
              "2023-12-29 14:30:00-05:00  192.679993\n",
              "2023-12-29 15:30:00-05:00  192.520004\n",
              "\n",
              "[1742 rows x 1 columns]"
            ]
          },
          "execution_count": 33,
          "metadata": {},
          "output_type": "execute_result"
        }
      ],
      "source": [
        "Apple = yf.Ticker('AAPL')\n",
        "\n",
        "##ดึงข้อมูลได้แค่ 730 วัน กรณีดึงข้อมูลเป็นรายชั่วโมง\n",
        "\n",
        "interval = '1h'\n",
        "\n",
        "start = '2023-1-1'\n",
        "end = '2023-12-31'\n",
        "\n",
        "Apple_price_df = Apple.history(interval='1h',start=start,end=end)\n",
        "\n",
        "df2 = Apple_price_df[\"Close\"]\n",
        "df2 = pd.DataFrame(df2)\n",
        "df2"
      ]
    },
    {
      "cell_type": "markdown",
      "id": "b4a544d1-d6fa-4f43-bfb8-ddbbed6c6fb3",
      "metadata": {
        "id": "b4a544d1-d6fa-4f43-bfb8-ddbbed6c6fb3"
      },
      "source": [
        "## Step 2: เอา df2 ที่เป็นตัวแปรราคาปิดของหุ้นบริษัท Apple (Close_y)ไป merge กับ df1 ที่เป็นข้อมูลหุ้นของ Berkshire_Hathaway"
      ]
    },
    {
      "cell_type": "code",
      "execution_count": null,
      "id": "46facec4-35c8-42a9-b012-263868e566bf",
      "metadata": {
        "id": "46facec4-35c8-42a9-b012-263868e566bf",
        "outputId": "f8f4b62f-aed4-4c74-bf7f-eb50962db849"
      },
      "outputs": [
        {
          "data": {
            "text/html": [
              "<div>\n",
              "<style scoped>\n",
              "    .dataframe tbody tr th:only-of-type {\n",
              "        vertical-align: middle;\n",
              "    }\n",
              "\n",
              "    .dataframe tbody tr th {\n",
              "        vertical-align: top;\n",
              "    }\n",
              "\n",
              "    .dataframe thead th {\n",
              "        text-align: right;\n",
              "    }\n",
              "</style>\n",
              "<table border=\"1\" class=\"dataframe\">\n",
              "  <thead>\n",
              "    <tr style=\"text-align: right;\">\n",
              "      <th></th>\n",
              "      <th>Open</th>\n",
              "      <th>High</th>\n",
              "      <th>Low</th>\n",
              "      <th>Close_x</th>\n",
              "      <th>S_10</th>\n",
              "      <th>Corr</th>\n",
              "      <th>RSI</th>\n",
              "      <th>Open-Close</th>\n",
              "      <th>Open-Open</th>\n",
              "      <th>Close_y</th>\n",
              "    </tr>\n",
              "    <tr>\n",
              "      <th>Datetime</th>\n",
              "      <th></th>\n",
              "      <th></th>\n",
              "      <th></th>\n",
              "      <th></th>\n",
              "      <th></th>\n",
              "      <th></th>\n",
              "      <th></th>\n",
              "      <th></th>\n",
              "      <th></th>\n",
              "      <th></th>\n",
              "    </tr>\n",
              "  </thead>\n",
              "  <tbody>\n",
              "    <tr>\n",
              "      <th>2023-01-05 13:30:00-05:00</th>\n",
              "      <td>312.640015</td>\n",
              "      <td>314.089996</td>\n",
              "      <td>312.630005</td>\n",
              "      <td>312.790009</td>\n",
              "      <td>313.374777</td>\n",
              "      <td>-0.798585</td>\n",
              "      <td>54.840032</td>\n",
              "      <td>-0.082794</td>\n",
              "      <td>0.870026</td>\n",
              "      <td>125.888702</td>\n",
              "    </tr>\n",
              "    <tr>\n",
              "      <th>2023-01-05 14:30:00-05:00</th>\n",
              "      <td>312.790009</td>\n",
              "      <td>313.589996</td>\n",
              "      <td>311.820007</td>\n",
              "      <td>312.059998</td>\n",
              "      <td>313.053278</td>\n",
              "      <td>-0.791204</td>\n",
              "      <td>50.897870</td>\n",
              "      <td>0.000000</td>\n",
              "      <td>0.149994</td>\n",
              "      <td>125.160004</td>\n",
              "    </tr>\n",
              "    <tr>\n",
              "      <th>2023-01-05 15:30:00-05:00</th>\n",
              "      <td>311.959991</td>\n",
              "      <td>312.989990</td>\n",
              "      <td>311.679993</td>\n",
              "      <td>312.769989</td>\n",
              "      <td>312.703278</td>\n",
              "      <td>-0.617879</td>\n",
              "      <td>54.437256</td>\n",
              "      <td>-0.100006</td>\n",
              "      <td>-0.830017</td>\n",
              "      <td>125.019997</td>\n",
              "    </tr>\n",
              "    <tr>\n",
              "      <th>2023-01-06 09:30:00-05:00</th>\n",
              "      <td>315.000000</td>\n",
              "      <td>316.920013</td>\n",
              "      <td>313.380005</td>\n",
              "      <td>316.239990</td>\n",
              "      <td>312.959277</td>\n",
              "      <td>-0.533623</td>\n",
              "      <td>67.254892</td>\n",
              "      <td>2.230011</td>\n",
              "      <td>3.040009</td>\n",
              "      <td>126.375000</td>\n",
              "    </tr>\n",
              "    <tr>\n",
              "      <th>2023-01-06 10:30:00-05:00</th>\n",
              "      <td>316.339996</td>\n",
              "      <td>318.779999</td>\n",
              "      <td>316.320007</td>\n",
              "      <td>317.765015</td>\n",
              "      <td>313.273779</td>\n",
              "      <td>-0.185809</td>\n",
              "      <td>71.209888</td>\n",
              "      <td>0.100006</td>\n",
              "      <td>1.339996</td>\n",
              "      <td>127.245003</td>\n",
              "    </tr>\n",
              "  </tbody>\n",
              "</table>\n",
              "</div>"
            ],
            "text/plain": [
              "                                 Open        High         Low     Close_x  \\\n",
              "Datetime                                                                    \n",
              "2023-01-05 13:30:00-05:00  312.640015  314.089996  312.630005  312.790009   \n",
              "2023-01-05 14:30:00-05:00  312.790009  313.589996  311.820007  312.059998   \n",
              "2023-01-05 15:30:00-05:00  311.959991  312.989990  311.679993  312.769989   \n",
              "2023-01-06 09:30:00-05:00  315.000000  316.920013  313.380005  316.239990   \n",
              "2023-01-06 10:30:00-05:00  316.339996  318.779999  316.320007  317.765015   \n",
              "\n",
              "                                 S_10      Corr        RSI  Open-Close  \\\n",
              "Datetime                                                                 \n",
              "2023-01-05 13:30:00-05:00  313.374777 -0.798585  54.840032   -0.082794   \n",
              "2023-01-05 14:30:00-05:00  313.053278 -0.791204  50.897870    0.000000   \n",
              "2023-01-05 15:30:00-05:00  312.703278 -0.617879  54.437256   -0.100006   \n",
              "2023-01-06 09:30:00-05:00  312.959277 -0.533623  67.254892    2.230011   \n",
              "2023-01-06 10:30:00-05:00  313.273779 -0.185809  71.209888    0.100006   \n",
              "\n",
              "                           Open-Open     Close_y  \n",
              "Datetime                                          \n",
              "2023-01-05 13:30:00-05:00   0.870026  125.888702  \n",
              "2023-01-05 14:30:00-05:00   0.149994  125.160004  \n",
              "2023-01-05 15:30:00-05:00  -0.830017  125.019997  \n",
              "2023-01-06 09:30:00-05:00   3.040009  126.375000  \n",
              "2023-01-06 10:30:00-05:00   1.339996  127.245003  "
            ]
          },
          "execution_count": 34,
          "metadata": {},
          "output_type": "execute_result"
        }
      ],
      "source": [
        "merged_df = pd.merge(df.iloc[:,:9], df2,on='Datetime', how='inner')\n",
        "merged_df.head()"
      ]
    },
    {
      "cell_type": "markdown",
      "id": "aef5e177-2539-4d05-b041-028965e7b696",
      "metadata": {
        "id": "aef5e177-2539-4d05-b041-028965e7b696"
      },
      "source": [
        "## Step 3: สร้างตัวแปร X, Y สำหรับวิชาข้อ b"
      ]
    },
    {
      "cell_type": "code",
      "execution_count": null,
      "id": "7762f664-1c3d-44a3-8ff8-0ba08351fa13",
      "metadata": {
        "scrolled": true,
        "id": "7762f664-1c3d-44a3-8ff8-0ba08351fa13",
        "outputId": "abc16faf-848b-42ca-ecf9-35d88be32272"
      },
      "outputs": [
        {
          "data": {
            "text/html": [
              "<div>\n",
              "<style scoped>\n",
              "    .dataframe tbody tr th:only-of-type {\n",
              "        vertical-align: middle;\n",
              "    }\n",
              "\n",
              "    .dataframe tbody tr th {\n",
              "        vertical-align: top;\n",
              "    }\n",
              "\n",
              "    .dataframe thead th {\n",
              "        text-align: right;\n",
              "    }\n",
              "</style>\n",
              "<table border=\"1\" class=\"dataframe\">\n",
              "  <thead>\n",
              "    <tr style=\"text-align: right;\">\n",
              "      <th></th>\n",
              "      <th>Open</th>\n",
              "      <th>High</th>\n",
              "      <th>Low</th>\n",
              "      <th>Close_BH</th>\n",
              "      <th>S_10</th>\n",
              "      <th>Corr</th>\n",
              "      <th>RSI</th>\n",
              "      <th>Open-Close</th>\n",
              "      <th>Open-Open</th>\n",
              "      <th>Close_APPL</th>\n",
              "    </tr>\n",
              "    <tr>\n",
              "      <th>Datetime</th>\n",
              "      <th></th>\n",
              "      <th></th>\n",
              "      <th></th>\n",
              "      <th></th>\n",
              "      <th></th>\n",
              "      <th></th>\n",
              "      <th></th>\n",
              "      <th></th>\n",
              "      <th></th>\n",
              "      <th></th>\n",
              "    </tr>\n",
              "  </thead>\n",
              "  <tbody>\n",
              "    <tr>\n",
              "      <th>2023-01-05 13:30:00-05:00</th>\n",
              "      <td>312.640015</td>\n",
              "      <td>314.089996</td>\n",
              "      <td>312.630005</td>\n",
              "      <td>312.790009</td>\n",
              "      <td>313.374777</td>\n",
              "      <td>-0.798585</td>\n",
              "      <td>54.840032</td>\n",
              "      <td>-0.082794</td>\n",
              "      <td>0.870026</td>\n",
              "      <td>125.888702</td>\n",
              "    </tr>\n",
              "    <tr>\n",
              "      <th>2023-01-05 14:30:00-05:00</th>\n",
              "      <td>312.790009</td>\n",
              "      <td>313.589996</td>\n",
              "      <td>311.820007</td>\n",
              "      <td>312.059998</td>\n",
              "      <td>313.053278</td>\n",
              "      <td>-0.791204</td>\n",
              "      <td>50.897870</td>\n",
              "      <td>0.000000</td>\n",
              "      <td>0.149994</td>\n",
              "      <td>125.160004</td>\n",
              "    </tr>\n",
              "    <tr>\n",
              "      <th>2023-01-05 15:30:00-05:00</th>\n",
              "      <td>311.959991</td>\n",
              "      <td>312.989990</td>\n",
              "      <td>311.679993</td>\n",
              "      <td>312.769989</td>\n",
              "      <td>312.703278</td>\n",
              "      <td>-0.617879</td>\n",
              "      <td>54.437256</td>\n",
              "      <td>-0.100006</td>\n",
              "      <td>-0.830017</td>\n",
              "      <td>125.019997</td>\n",
              "    </tr>\n",
              "    <tr>\n",
              "      <th>2023-01-06 09:30:00-05:00</th>\n",
              "      <td>315.000000</td>\n",
              "      <td>316.920013</td>\n",
              "      <td>313.380005</td>\n",
              "      <td>316.239990</td>\n",
              "      <td>312.959277</td>\n",
              "      <td>-0.533623</td>\n",
              "      <td>67.254892</td>\n",
              "      <td>2.230011</td>\n",
              "      <td>3.040009</td>\n",
              "      <td>126.375000</td>\n",
              "    </tr>\n",
              "    <tr>\n",
              "      <th>2023-01-06 10:30:00-05:00</th>\n",
              "      <td>316.339996</td>\n",
              "      <td>318.779999</td>\n",
              "      <td>316.320007</td>\n",
              "      <td>317.765015</td>\n",
              "      <td>313.273779</td>\n",
              "      <td>-0.185809</td>\n",
              "      <td>71.209888</td>\n",
              "      <td>0.100006</td>\n",
              "      <td>1.339996</td>\n",
              "      <td>127.245003</td>\n",
              "    </tr>\n",
              "  </tbody>\n",
              "</table>\n",
              "</div>"
            ],
            "text/plain": [
              "                                 Open        High         Low    Close_BH  \\\n",
              "Datetime                                                                    \n",
              "2023-01-05 13:30:00-05:00  312.640015  314.089996  312.630005  312.790009   \n",
              "2023-01-05 14:30:00-05:00  312.790009  313.589996  311.820007  312.059998   \n",
              "2023-01-05 15:30:00-05:00  311.959991  312.989990  311.679993  312.769989   \n",
              "2023-01-06 09:30:00-05:00  315.000000  316.920013  313.380005  316.239990   \n",
              "2023-01-06 10:30:00-05:00  316.339996  318.779999  316.320007  317.765015   \n",
              "\n",
              "                                 S_10      Corr        RSI  Open-Close  \\\n",
              "Datetime                                                                 \n",
              "2023-01-05 13:30:00-05:00  313.374777 -0.798585  54.840032   -0.082794   \n",
              "2023-01-05 14:30:00-05:00  313.053278 -0.791204  50.897870    0.000000   \n",
              "2023-01-05 15:30:00-05:00  312.703278 -0.617879  54.437256   -0.100006   \n",
              "2023-01-06 09:30:00-05:00  312.959277 -0.533623  67.254892    2.230011   \n",
              "2023-01-06 10:30:00-05:00  313.273779 -0.185809  71.209888    0.100006   \n",
              "\n",
              "                           Open-Open  Close_APPL  \n",
              "Datetime                                          \n",
              "2023-01-05 13:30:00-05:00   0.870026  125.888702  \n",
              "2023-01-05 14:30:00-05:00   0.149994  125.160004  \n",
              "2023-01-05 15:30:00-05:00  -0.830017  125.019997  \n",
              "2023-01-06 09:30:00-05:00   3.040009  126.375000  \n",
              "2023-01-06 10:30:00-05:00   1.339996  127.245003  "
            ]
          },
          "execution_count": 35,
          "metadata": {},
          "output_type": "execute_result"
        }
      ],
      "source": [
        "merged_df.rename(columns={'Close_x': 'Close_BH'}, inplace=True)\n",
        "merged_df.rename(columns={'Close_y': 'Close_APPL'}, inplace=True)\n",
        "\n",
        "Xb = merged_df.iloc[:,:10]\n",
        "\n",
        "Xb.head()"
      ]
    },
    {
      "cell_type": "code",
      "execution_count": null,
      "id": "bd4924b4-09d7-4ce9-bb87-f35ab26f0a57",
      "metadata": {
        "id": "bd4924b4-09d7-4ce9-bb87-f35ab26f0a57",
        "outputId": "9a7a8e5e-10b9-4dea-d356-c82013df4555"
      },
      "outputs": [
        {
          "data": {
            "text/plain": [
              "array([-1,  1,  1, ...,  1, -1, -1])"
            ]
          },
          "execution_count": 36,
          "metadata": {},
          "output_type": "execute_result"
        }
      ],
      "source": [
        "yb = np.where(merged_df['Close_BH'].shift(-1) > merged_df['Close_BH'],1,-1)\n",
        "yb"
      ]
    },
    {
      "cell_type": "markdown",
      "id": "7af53921-4890-4d7f-82cf-97c82ca1ce54",
      "metadata": {
        "id": "7af53921-4890-4d7f-82cf-97c82ca1ce54"
      },
      "source": [
        "## Step 4: แบ่งข้อมูลสำหรับ Train 70% และ test  30%"
      ]
    },
    {
      "cell_type": "code",
      "execution_count": null,
      "id": "da775528-27d2-4b1b-81a3-5de211b520f0",
      "metadata": {
        "id": "da775528-27d2-4b1b-81a3-5de211b520f0"
      },
      "outputs": [],
      "source": [
        "splitb = int(0.7*len(df))\n",
        "Xb_train, Xb_test, yb_train, yb_test = Xb[:split], Xb[split:], yb[:split], yb[split:]"
      ]
    },
    {
      "cell_type": "markdown",
      "id": "06bfae99-f738-4200-a23d-c5402d431d3c",
      "metadata": {
        "id": "06bfae99-f738-4200-a23d-c5402d431d3c"
      },
      "source": [
        "## Step 5: Logistic Regression"
      ]
    },
    {
      "cell_type": "code",
      "execution_count": null,
      "id": "45e62ae6-bbcd-4c28-8dc0-87101b093f63",
      "metadata": {
        "id": "45e62ae6-bbcd-4c28-8dc0-87101b093f63",
        "outputId": "1e791313-9408-412c-c65b-d4a840ca6780"
      },
      "outputs": [
        {
          "name": "stderr",
          "output_type": "stream",
          "text": [
            "/Users/anonsuksak/miniconda3/lib/python3.10/site-packages/sklearn/linear_model/_logistic.py:469: ConvergenceWarning: lbfgs failed to converge (status=1):\n",
            "STOP: TOTAL NO. of ITERATIONS REACHED LIMIT.\n",
            "\n",
            "Increase the number of iterations (max_iter) or scale the data as shown in:\n",
            "    https://scikit-learn.org/stable/modules/preprocessing.html\n",
            "Please also refer to the documentation for alternative solver options:\n",
            "    https://scikit-learn.org/stable/modules/linear_model.html#logistic-regression\n",
            "  n_iter_i = _check_optimize_result(\n"
          ]
        }
      ],
      "source": [
        "modelb = LogisticRegression()\n",
        "modelb = modelb.fit(Xb_train,yb_train)"
      ]
    },
    {
      "cell_type": "code",
      "execution_count": null,
      "id": "344c07a2-346f-4ef2-849c-e0702b787062",
      "metadata": {
        "id": "344c07a2-346f-4ef2-849c-e0702b787062",
        "outputId": "c3cbc719-9bb2-4e6b-c259-7d2d2bb49fdf"
      },
      "outputs": [
        {
          "data": {
            "text/html": [
              "<div>\n",
              "<style scoped>\n",
              "    .dataframe tbody tr th:only-of-type {\n",
              "        vertical-align: middle;\n",
              "    }\n",
              "\n",
              "    .dataframe tbody tr th {\n",
              "        vertical-align: top;\n",
              "    }\n",
              "\n",
              "    .dataframe thead th {\n",
              "        text-align: right;\n",
              "    }\n",
              "</style>\n",
              "<table border=\"1\" class=\"dataframe\">\n",
              "  <thead>\n",
              "    <tr style=\"text-align: right;\">\n",
              "      <th></th>\n",
              "      <th>0</th>\n",
              "      <th>1</th>\n",
              "    </tr>\n",
              "  </thead>\n",
              "  <tbody>\n",
              "    <tr>\n",
              "      <th>0</th>\n",
              "      <td>Open</td>\n",
              "      <td>[0.16349173493861366]</td>\n",
              "    </tr>\n",
              "    <tr>\n",
              "      <th>1</th>\n",
              "      <td>High</td>\n",
              "      <td>[-0.2582389594735156]</td>\n",
              "    </tr>\n",
              "    <tr>\n",
              "      <th>2</th>\n",
              "      <td>Low</td>\n",
              "      <td>[-0.04615698697968011]</td>\n",
              "    </tr>\n",
              "    <tr>\n",
              "      <th>3</th>\n",
              "      <td>Close_BH</td>\n",
              "      <td>[0.1861308249609765]</td>\n",
              "    </tr>\n",
              "    <tr>\n",
              "      <th>4</th>\n",
              "      <td>S_10</td>\n",
              "      <td>[-0.04607432368815111]</td>\n",
              "    </tr>\n",
              "    <tr>\n",
              "      <th>5</th>\n",
              "      <td>Corr</td>\n",
              "      <td>[-0.11640547268658337]</td>\n",
              "    </tr>\n",
              "    <tr>\n",
              "      <th>6</th>\n",
              "      <td>RSI</td>\n",
              "      <td>[-0.004229516911407717]</td>\n",
              "    </tr>\n",
              "    <tr>\n",
              "      <th>7</th>\n",
              "      <td>Open-Close</td>\n",
              "      <td>[-0.09216345839220492]</td>\n",
              "    </tr>\n",
              "    <tr>\n",
              "      <th>8</th>\n",
              "      <td>Open-Open</td>\n",
              "      <td>[-0.09711594465035463]</td>\n",
              "    </tr>\n",
              "    <tr>\n",
              "      <th>9</th>\n",
              "      <td>Close_APPL</td>\n",
              "      <td>[0.004300761186911805]</td>\n",
              "    </tr>\n",
              "  </tbody>\n",
              "</table>\n",
              "</div>"
            ],
            "text/plain": [
              "            0                        1\n",
              "0        Open    [0.16349173493861366]\n",
              "1        High    [-0.2582389594735156]\n",
              "2         Low   [-0.04615698697968011]\n",
              "3    Close_BH     [0.1861308249609765]\n",
              "4        S_10   [-0.04607432368815111]\n",
              "5        Corr   [-0.11640547268658337]\n",
              "6         RSI  [-0.004229516911407717]\n",
              "7  Open-Close   [-0.09216345839220492]\n",
              "8   Open-Open   [-0.09711594465035463]\n",
              "9  Close_APPL   [0.004300761186911805]"
            ]
          },
          "execution_count": 40,
          "metadata": {},
          "output_type": "execute_result"
        }
      ],
      "source": [
        "pd.DataFrame(zip(Xb.columns, np.transpose(modelb.coef_)))"
      ]
    },
    {
      "cell_type": "markdown",
      "id": "8a75a0d6-19e5-48fc-ab62-9709b36c9b83",
      "metadata": {
        "id": "8a75a0d6-19e5-48fc-ab62-9709b36c9b83"
      },
      "source": [
        "## Step 6: Prediction"
      ]
    },
    {
      "cell_type": "code",
      "execution_count": null,
      "id": "16b92ac4-2f1d-448c-b4cc-def7724fdaf4",
      "metadata": {
        "id": "16b92ac4-2f1d-448c-b4cc-def7724fdaf4",
        "outputId": "c4dcce55-fe73-4228-f3c7-2f874546f1b8"
      },
      "outputs": [
        {
          "data": {
            "text/plain": [
              "array([[0.4836284 , 0.5163716 ],\n",
              "       [0.43007689, 0.56992311],\n",
              "       [0.45118   , 0.54882   ],\n",
              "       ...,\n",
              "       [0.41797559, 0.58202441],\n",
              "       [0.44895446, 0.55104554],\n",
              "       [0.44922178, 0.55077822]])"
            ]
          },
          "execution_count": 41,
          "metadata": {},
          "output_type": "execute_result"
        }
      ],
      "source": [
        "# Specify the date for prediction\n",
        "predictionb_date = '2024-12-22'\n",
        "probabilityb = modelb.predict_proba(Xb_test)\n",
        "probabilityb"
      ]
    },
    {
      "cell_type": "code",
      "execution_count": null,
      "id": "775b17c4-4141-4793-8479-5b84537157fa",
      "metadata": {
        "id": "775b17c4-4141-4793-8479-5b84537157fa",
        "outputId": "72509a5a-5d17-4b90-b30b-160d61d64dda"
      },
      "outputs": [
        {
          "data": {
            "text/plain": [
              "array([ 1,  1,  1,  1,  1,  1,  1,  1,  1,  1,  1,  1,  1,  1,  1,  1,  1,\n",
              "        1, -1,  1,  1,  1,  1,  1,  1,  1,  1,  1,  1,  1,  1,  1,  1,  1,\n",
              "        1,  1,  1,  1,  1,  1,  1,  1,  1,  1,  1, -1,  1,  1,  1,  1,  1,\n",
              "        1,  1,  1,  1,  1,  1,  1,  1, -1,  1,  1,  1, -1,  1, -1,  1,  1,\n",
              "        1,  1,  1,  1,  1,  1, -1,  1,  1,  1, -1,  1, -1,  1,  1,  1,  1,\n",
              "       -1,  1,  1, -1,  1,  1,  1,  1,  1,  1, -1,  1, -1, -1,  1,  1,  1,\n",
              "        1, -1,  1,  1,  1,  1,  1,  1,  1, -1,  1,  1,  1,  1,  1,  1,  1,\n",
              "        1,  1,  1,  1,  1,  1,  1,  1,  1,  1,  1,  1,  1,  1,  1,  1,  1,\n",
              "        1,  1,  1,  1, -1,  1,  1, -1, -1, -1,  1, -1,  1,  1,  1, -1, -1,\n",
              "        1,  1,  1,  1,  1,  1,  1,  1,  1,  1,  1,  1,  1,  1,  1, -1, -1,\n",
              "        1,  1, -1,  1, -1, -1,  1,  1,  1, -1,  1, -1, -1,  1,  1,  1,  1,\n",
              "       -1,  1,  1,  1,  1,  1, -1, -1,  1,  1,  1,  1,  1,  1,  1, -1,  1,\n",
              "        1,  1,  1,  1,  1,  1,  1,  1, -1,  1,  1,  1,  1, -1,  1,  1,  1,\n",
              "       -1, -1,  1,  1,  1,  1,  1,  1,  1,  1, -1, -1,  1,  1, -1, -1, -1,\n",
              "        1, -1, -1, -1, -1, -1,  1,  1,  1,  1,  1, -1, -1,  1, -1,  1, -1,\n",
              "        1, -1,  1,  1,  1, -1,  1, -1, -1,  1,  1,  1,  1,  1,  1, -1,  1,\n",
              "        1,  1,  1,  1,  1, -1,  1,  1, -1,  1,  1,  1, -1,  1,  1,  1,  1,\n",
              "        1,  1,  1,  1,  1,  1,  1,  1,  1, -1,  1,  1,  1,  1,  1,  1,  1,\n",
              "        1,  1,  1,  1,  1,  1, -1,  1,  1,  1,  1,  1,  1,  1,  1,  1,  1,\n",
              "        1,  1,  1,  1,  1,  1,  1,  1,  1,  1,  1,  1,  1,  1,  1,  1,  1,\n",
              "        1,  1,  1,  1,  1,  1,  1,  1,  1,  1,  1,  1,  1,  1,  1,  1,  1,\n",
              "        1,  1,  1,  1,  1,  1,  1,  1,  1,  1,  1,  1,  1,  1, -1,  1,  1,\n",
              "        1,  1,  1,  1, -1,  1,  1,  1,  1,  1,  1, -1,  1,  1,  1,  1,  1,\n",
              "        1,  1,  1,  1,  1,  1,  1,  1, -1,  1,  1,  1,  1,  1,  1,  1,  1,\n",
              "        1,  1,  1,  1,  1,  1,  1,  1,  1,  1,  1,  1, -1, -1,  1,  1,  1,\n",
              "        1,  1, -1,  1,  1,  1,  1,  1,  1, -1,  1,  1,  1,  1, -1,  1, -1,\n",
              "        1,  1,  1,  1,  1,  1,  1,  1,  1,  1,  1,  1,  1, -1,  1,  1,  1,\n",
              "        1,  1,  1,  1,  1,  1,  1,  1,  1,  1,  1,  1,  1,  1,  1,  1,  1,\n",
              "        1,  1,  1,  1,  1,  1,  1,  1,  1,  1,  1,  1,  1,  1,  1,  1,  1,\n",
              "        1,  1,  1,  1,  1,  1,  1,  1,  1,  1,  1,  1,  1,  1,  1,  1,  1,\n",
              "        1,  1,  1,  1,  1,  1,  1,  1])"
            ]
          },
          "execution_count": 42,
          "metadata": {},
          "output_type": "execute_result"
        }
      ],
      "source": [
        "predictedb = modelb.predict(Xb_test)\n",
        "predictedb"
      ]
    },
    {
      "cell_type": "code",
      "execution_count": null,
      "id": "0c968fba-3ba9-47a3-a860-18879abe76cd",
      "metadata": {
        "scrolled": true,
        "id": "0c968fba-3ba9-47a3-a860-18879abe76cd",
        "outputId": "4e0b726b-57b9-4536-f38c-7e7e471edab4"
      },
      "outputs": [
        {
          "name": "stdout",
          "output_type": "stream",
          "text": [
            "                           Predictedb\n",
            "Datetime                             \n",
            "2023-09-14 12:30:00-04:00           1\n",
            "2023-09-14 13:30:00-04:00           1\n",
            "2023-09-14 14:30:00-04:00           1\n",
            "2023-09-14 15:30:00-04:00           1\n",
            "2023-09-15 09:30:00-04:00           1\n",
            "...                               ...\n",
            "2023-12-29 11:30:00-05:00           1\n",
            "2023-12-29 12:30:00-05:00           1\n",
            "2023-12-29 13:30:00-05:00           1\n",
            "2023-12-29 14:30:00-05:00           1\n",
            "2023-12-29 15:30:00-05:00           1\n",
            "\n",
            "[445 rows x 1 columns]\n"
          ]
        }
      ],
      "source": [
        "# Convert the predicted values array into a pandas Series with original row indices\n",
        "predicted_dfb = pd.DataFrame({'Predictedb': predictedb}, index=Xb_test.index)\n",
        "filtered_dfb = predicted_dfb[predicted_dfb['Predictedb'] == 1]\n",
        "\n",
        "# Display the filtered DataFrame\n",
        "print(filtered_dfb)"
      ]
    },
    {
      "cell_type": "markdown",
      "id": "21d9b2cf-52ee-43b1-9370-745e7ab9caa3",
      "metadata": {
        "id": "21d9b2cf-52ee-43b1-9370-745e7ab9caa3"
      },
      "source": [
        "## Step 7: Evaluate The Model"
      ]
    },
    {
      "cell_type": "markdown",
      "id": "39acd3e7-3308-4453-90fa-b6c06821f3b0",
      "metadata": {
        "id": "39acd3e7-3308-4453-90fa-b6c06821f3b0"
      },
      "source": [
        "## 7.1 Confusion Matrix"
      ]
    },
    {
      "cell_type": "code",
      "execution_count": null,
      "id": "dc1efcdb-87a2-4286-8e0d-d2691dcfaec2",
      "metadata": {
        "id": "dc1efcdb-87a2-4286-8e0d-d2691dcfaec2",
        "outputId": "1fb842ba-5bf5-42b9-c86a-4b8bccce42f7"
      },
      "outputs": [
        {
          "name": "stdout",
          "output_type": "stream",
          "text": [
            "[[ 38 206]\n",
            " [ 35 239]]\n"
          ]
        }
      ],
      "source": [
        "print(metrics.confusion_matrix(yb_test, predictedb))"
      ]
    },
    {
      "cell_type": "markdown",
      "id": "833a2fdf-5624-4322-97a0-e981ba8de242",
      "metadata": {
        "id": "833a2fdf-5624-4322-97a0-e981ba8de242"
      },
      "source": [
        "## 7.2 Classification Report"
      ]
    },
    {
      "cell_type": "code",
      "execution_count": null,
      "id": "4716d809-f95f-4fcf-adfa-86838a467713",
      "metadata": {
        "scrolled": true,
        "id": "4716d809-f95f-4fcf-adfa-86838a467713",
        "outputId": "0d3ff235-f042-4581-da7c-9fc180848741"
      },
      "outputs": [
        {
          "name": "stdout",
          "output_type": "stream",
          "text": [
            "              precision    recall  f1-score   support\n",
            "\n",
            "          -1       0.52      0.16      0.24       244\n",
            "           1       0.54      0.87      0.66       274\n",
            "\n",
            "    accuracy                           0.53       518\n",
            "   macro avg       0.53      0.51      0.45       518\n",
            "weighted avg       0.53      0.53      0.46       518\n",
            "\n"
          ]
        }
      ],
      "source": [
        "print(metrics.classification_report(yb_test, predictedb))"
      ]
    },
    {
      "cell_type": "markdown",
      "id": "e51ab8c3-c937-40d5-833b-3d41ded5c36a",
      "metadata": {
        "id": "e51ab8c3-c937-40d5-833b-3d41ded5c36a"
      },
      "source": [
        "- Accuracy is 53%"
      ]
    },
    {
      "cell_type": "markdown",
      "id": "8ebbdca3-140e-4d0a-834a-2b355186572b",
      "metadata": {
        "id": "8ebbdca3-140e-4d0a-834a-2b355186572b"
      },
      "source": [
        "## Step 8: Create Trading Strategy Using The Model"
      ]
    },
    {
      "cell_type": "code",
      "execution_count": null,
      "id": "2f2fcbe2-44d5-4d92-81ee-7a2728817c03",
      "metadata": {
        "id": "2f2fcbe2-44d5-4d92-81ee-7a2728817c03",
        "outputId": "89e98b79-2850-4f5e-f635-927944ae16ed"
      },
      "outputs": [
        {
          "data": {
            "image/png": "[encoded data removed]",
            "text/plain": [
              "<Figure size 1000x500 with 1 Axes>"
            ]
          },
          "metadata": {},
          "output_type": "display_data"
        }
      ],
      "source": [
        "plt.figure(figsize=(10,5))\n",
        "\n",
        "##เส้นที่ 1 ผลตอบแทนจริงของ BH กรณีปกติ\n",
        "plt.plot(Cumulative_Berkshire_Hathaway_returns, color='r',label = 'Berkshire Hathaway Return Normal')\n",
        "\n",
        "\n",
        "##เส้นที่ 2 ผลตอบแทนจริงของ BH กรณีที่เอาราคาปิดของ Apple มาวิเคราะห์ร่วม/\n",
        "merged_df['Predicted_Signalb'] = modelb.predict(Xb)\n",
        "merged_df['BH_APPL'] = np.log(merged_df['Close_BH']/merged_df['Close_BH'].shift(1))\n",
        "Cumulative_BH_AAPL_returns = np.cumsum(merged_df[splitb:]['BH_APPL'])\n",
        "plt.plot(Cumulative_BH_AAPL_returns, color='b',label = 'Berkshire Hathaway Return with APPL effect (Close price)')\n",
        "\n",
        "##เส้นที่ 3 ผลตอบแทนของตาม model กรณีปกติ\n",
        "plt.plot(Cumulative_Strategy_returns, color='g', label = 'Strategy Returns')\n",
        "\n",
        "\n",
        "##เส้นที่ 4 ผลตอบแทนของตาม model กรณีที่เอาราคาปิดของ Apple มาวิเคราะห์ร่วม\n",
        "merged_df['Strategy_returnsb'] = merged_df['BH_APPL']* merged_df['Predicted_Signalb'].shift(1)\n",
        "Cumulative_Strategy_returnsb = np.cumsum(merged_df[splitb:]['Strategy_returnsb'])\n",
        "plt.plot(Cumulative_Strategy_returnsb, color='y', label = 'Strategy Returns with APPL effect (Close price)')\n",
        "\n",
        "\n",
        "plt.legend()\n",
        "plt.show()"
      ]
    },
    {
      "cell_type": "markdown",
      "id": "418c9d9a-264d-42ec-a64f-4405d43f7c9c",
      "metadata": {
        "id": "418c9d9a-264d-42ec-a64f-4405d43f7c9c"
      },
      "source": [
        "- จากกราฟ พบว่า เส้นผลตอบแทนของหุ้น Berkshire กรณีปกติ (Berkshire Hathaway Return Normal) จะใกล้เคียงกับเส้นผลตอบแทนของหุ้น Berkshire กรณีที่นำราคาปิดของหุ้น Apple (APPL) มาวิเคราะห์ร่วมด้วย (Berkshire Hathaway Return with APPL effect (Close price)) อาจเป็นผลมาจากบริษัท Berkshire ได้ลงทุนในหุ้น Apple คิดเป็นมากกว่า 50% ของการลงทุนทั้งหมดของตนเอง\n",
        "- นอกจากนี้ยังพบว่า logistic Model สามารถพยากรณ์ผลตอบแทนของการลงทุนในหุ้น Berkshire ได้สองรูปแบบคือ\n",
        "- 1. กราฟเส้นสีเขียว กรณีปกติ ไม่นำผลของราคาปิดของหุ้น Apple (APPL) มาวิเคราะห์ พบว่า Model สามารถพยากรณ์การลงทุนซื้อขาย และสร้างผลตอบแทนได้กว่าผลตอบแทนของหุ้น Berkshire ที่เกิดขึ้นจริง\n",
        "  2. กราฟเส้นสีเหลือง กรณีวิเคราะห์ราคาปิดของหุ้น Apple (APPL)ร่วมด้วย พบว่า Model สามารถพยากรณ์การลงทุนซื้อขาย และสร้างผลตอบแทนได้กว่าผลตอบแทนของหุ้น Berkshire ที่เกิดขึ้นจริงบ้าง ก่อนช่วงวันที่ 01-11-2023 และหลังจากนั้นก็ทำนายการซื้อขายและสร้างผลตอบแทนได้ต่ำกว่าผลตอบแทนจริง\n",
        "- โดยสรุปกรณีที่ 2 เป็น model ที่สร้างผลตอบแทนได้ต่ำกว่ากรณีแรก"
      ]
    },
    {
      "cell_type": "code",
      "execution_count": null,
      "id": "b9ef3b49-a120-4794-8fce-fb9ce968b28a",
      "metadata": {
        "id": "b9ef3b49-a120-4794-8fce-fb9ce968b28a"
      },
      "outputs": [],
      "source": []
    }
  ],
  "metadata": {
    "kernelspec": {
      "display_name": "Python 3 (ipykernel)",
      "language": "python",
      "name": "python3"
    },
    "language_info": {
      "codemirror_mode": {
        "name": "ipython",
        "version": 3
      },
      "file_extension": ".py",
      "mimetype": "text/x-python",
      "name": "python",
      "nbconvert_exporter": "python",
      "pygments_lexer": "ipython3",
      "version": "3.10.8"
    },
    "colab": {
      "provenance": [],
      "include_colab_link": true
    }
  },
  "nbformat": 4,
  "nbformat_minor": 5
}